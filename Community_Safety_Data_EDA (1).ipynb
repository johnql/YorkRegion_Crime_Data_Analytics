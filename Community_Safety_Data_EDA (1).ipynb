{
  "nbformat": 4,
  "nbformat_minor": 5,
  "metadata": {
    "noteable-chatgpt": {
      "create_notebook": {
        "openai_conversation_id": "19816ca1-67f0-552f-83e3-20185c00e2a6",
        "openai_ephemeral_user_id": "f7d05042-d503-5b21-9acb-e97e88a6dbca",
        "openai_subdivision1_iso_code": "CA-ON"
      }
    },
    "kernel_info": {
      "name": "python3"
    },
    "kernelspec": {
      "display_name": "Python 3.9",
      "identifier": "legacy",
      "language": "python",
      "language_version": "3.9",
      "name": "python3"
    },
    "selected_hardware_size": "small"
  },
  "cells": [
    {
      "id": "647a4b12-fcda-48d0-8491-19cb8c626e0b",
      "cell_type": "code",
      "metadata": {
        "noteable": {
          "cell_type": "code",
          "output_collection_id": "f0a2052a-f975-4af1-9a2c-3649df39bc7e"
        },
        "ExecuteTime": {
          "end_time": "2023-11-11T06:55:33.252602+00:00",
          "start_time": "2023-11-11T06:55:31.975213+00:00"
        },
        "datalink": {
          "8f98927b-cde3-4a19-929a-2fcb11591517": {
            "applied_filters": [],
            "dataframe_info": {
              "default_index_used": true,
              "orig_num_cols": 19,
              "orig_num_rows": 5,
              "orig_size_bytes": 800,
              "truncated_num_cols": 19,
              "truncated_num_rows": 5,
              "truncated_size_bytes": 800,
              "truncated_string_columns": []
            },
            "display_id": "8f98927b-cde3-4a19-929a-2fcb11591517",
            "dx_settings": {
              "ALLOW_NOTEABLE_ATTRS": true,
              "COLUMN_SAMPLING_METHOD": "outer",
              "DB_LOCATION": ":memory:",
              "DEV_MODE": false,
              "DISPLAY_MAX_COLUMNS": 100,
              "DISPLAY_MAX_ROWS": 50000,
              "DISPLAY_MODE": "simple",
              "ENABLE_ASSIGNMENT": true,
              "ENABLE_DATALINK": true,
              "FLATTEN_COLUMN_VALUES": true,
              "FLATTEN_INDEX_VALUES": false,
              "GENERATE_DEX_METADATA": false,
              "HTML_TABLE_SCHEMA": false,
              "LOG_LEVEL": 30,
              "MAX_RENDER_SIZE_BYTES": 104857600,
              "MAX_STRING_LENGTH": 250,
              "NUM_PAST_SAMPLES_TRACKED": 3,
              "RANDOM_STATE": 12648430,
              "RESET_INDEX_VALUES": false,
              "ROW_SAMPLING_METHOD": "random",
              "SAMPLING_FACTOR": 0.1,
              "SAMPLING_METHOD": "random",
              "STRINGIFY_COLUMN_VALUES": true,
              "STRINGIFY_INDEX_VALUES": false
            },
            "sample_history": [],
            "sampling_time": "2023-11-10T00:26:08.831226",
            "user_variable_name": null,
            "variable_name": "unk_dataframe_68dca6ab439846868f4eb289a2838f22"
          },
          "5c87f5cb-3d90-44bb-ab8e-561290a4e947": {
            "applied_filters": [],
            "dataframe_info": {
              "default_index_used": true,
              "orig_num_cols": 19,
              "orig_num_rows": 5,
              "orig_size_bytes": 800,
              "truncated_num_cols": 19,
              "truncated_num_rows": 5,
              "truncated_size_bytes": 800,
              "truncated_string_columns": []
            },
            "display_id": "5c87f5cb-3d90-44bb-ab8e-561290a4e947",
            "dx_settings": {
              "ALLOW_NOTEABLE_ATTRS": true,
              "COLUMN_SAMPLING_METHOD": "outer",
              "DB_LOCATION": ":memory:",
              "DEV_MODE": false,
              "DISPLAY_MAX_COLUMNS": 100,
              "DISPLAY_MAX_ROWS": 50000,
              "DISPLAY_MODE": "simple",
              "ENABLE_ASSIGNMENT": true,
              "ENABLE_DATALINK": true,
              "FLATTEN_COLUMN_VALUES": true,
              "FLATTEN_INDEX_VALUES": false,
              "GENERATE_DEX_METADATA": false,
              "HTML_TABLE_SCHEMA": false,
              "LOG_LEVEL": 30,
              "MAX_RENDER_SIZE_BYTES": 104857600,
              "MAX_STRING_LENGTH": 250,
              "NUM_PAST_SAMPLES_TRACKED": 3,
              "RANDOM_STATE": 12648430,
              "RESET_INDEX_VALUES": false,
              "ROW_SAMPLING_METHOD": "random",
              "SAMPLING_FACTOR": 0.1,
              "SAMPLING_METHOD": "random",
              "STRINGIFY_COLUMN_VALUES": true,
              "STRINGIFY_INDEX_VALUES": false
            },
            "sample_history": [],
            "sampling_time": "2023-11-10T02:18:14.940417",
            "user_variable_name": null,
            "variable_name": "unk_dataframe_4e9a4d9070ca48e1a72ad397674c6e0c"
          },
          "616d538c-a8e4-4136-a960-15108b095968": {
            "applied_filters": [],
            "dataframe_info": {
              "default_index_used": true,
              "orig_num_cols": 19,
              "orig_num_rows": 5,
              "orig_size_bytes": 800,
              "truncated_num_cols": 19,
              "truncated_num_rows": 5,
              "truncated_size_bytes": 800,
              "truncated_string_columns": []
            },
            "display_id": "616d538c-a8e4-4136-a960-15108b095968",
            "dx_settings": {
              "ALLOW_NOTEABLE_ATTRS": true,
              "COLUMN_SAMPLING_METHOD": "outer",
              "DB_LOCATION": ":memory:",
              "DEV_MODE": false,
              "DISPLAY_MAX_COLUMNS": 100,
              "DISPLAY_MAX_ROWS": 50000,
              "DISPLAY_MODE": "simple",
              "ENABLE_ASSIGNMENT": true,
              "ENABLE_DATALINK": true,
              "FLATTEN_COLUMN_VALUES": true,
              "FLATTEN_INDEX_VALUES": false,
              "GENERATE_DEX_METADATA": false,
              "HTML_TABLE_SCHEMA": false,
              "LOG_LEVEL": 30,
              "MAX_RENDER_SIZE_BYTES": 104857600,
              "MAX_STRING_LENGTH": 250,
              "NUM_PAST_SAMPLES_TRACKED": 3,
              "RANDOM_STATE": 12648430,
              "RESET_INDEX_VALUES": false,
              "ROW_SAMPLING_METHOD": "random",
              "SAMPLING_FACTOR": 0.1,
              "SAMPLING_METHOD": "random",
              "STRINGIFY_COLUMN_VALUES": true,
              "STRINGIFY_INDEX_VALUES": false
            },
            "sample_history": [],
            "sampling_time": "2023-11-10T02:21:24.806076",
            "user_variable_name": null,
            "variable_name": "unk_dataframe_07e925ac4af34375be5b867c119fb6fc"
          },
          "0a71b129-d799-43d4-8f4c-114b07709973": {
            "applied_filters": [],
            "dataframe_info": {
              "default_index_used": true,
              "orig_num_cols": 19,
              "orig_num_rows": 5,
              "orig_size_bytes": 800,
              "truncated_num_cols": 19,
              "truncated_num_rows": 5,
              "truncated_size_bytes": 800,
              "truncated_string_columns": []
            },
            "display_id": "0a71b129-d799-43d4-8f4c-114b07709973",
            "dx_settings": {
              "ALLOW_NOTEABLE_ATTRS": true,
              "COLUMN_SAMPLING_METHOD": "outer",
              "DB_LOCATION": ":memory:",
              "DEV_MODE": false,
              "DISPLAY_MAX_COLUMNS": 100,
              "DISPLAY_MAX_ROWS": 50000,
              "DISPLAY_MODE": "simple",
              "ENABLE_ASSIGNMENT": true,
              "ENABLE_DATALINK": true,
              "FLATTEN_COLUMN_VALUES": true,
              "FLATTEN_INDEX_VALUES": false,
              "GENERATE_DEX_METADATA": false,
              "HTML_TABLE_SCHEMA": false,
              "LOG_LEVEL": 30,
              "MAX_RENDER_SIZE_BYTES": 104857600,
              "MAX_STRING_LENGTH": 250,
              "NUM_PAST_SAMPLES_TRACKED": 3,
              "RANDOM_STATE": 12648430,
              "RESET_INDEX_VALUES": false,
              "ROW_SAMPLING_METHOD": "random",
              "SAMPLING_FACTOR": 0.1,
              "SAMPLING_METHOD": "random",
              "STRINGIFY_COLUMN_VALUES": true,
              "STRINGIFY_INDEX_VALUES": false
            },
            "sample_history": [],
            "sampling_time": "2023-11-10T04:14:37.215408",
            "user_variable_name": null,
            "variable_name": "unk_dataframe_733852d7313f4d5cb459f04230fe5908"
          },
          "fda8682b-324b-49be-8198-690bef4b2fda": {
            "applied_filters": [],
            "dataframe_info": {
              "default_index_used": true,
              "orig_num_cols": 19,
              "orig_num_rows": 5,
              "orig_size_bytes": 800,
              "truncated_num_cols": 19,
              "truncated_num_rows": 5,
              "truncated_size_bytes": 800,
              "truncated_string_columns": []
            },
            "display_id": "fda8682b-324b-49be-8198-690bef4b2fda",
            "dx_settings": {
              "ALLOW_NOTEABLE_ATTRS": true,
              "COLUMN_SAMPLING_METHOD": "outer",
              "DB_LOCATION": ":memory:",
              "DEV_MODE": false,
              "DISPLAY_MAX_COLUMNS": 100,
              "DISPLAY_MAX_ROWS": 50000,
              "DISPLAY_MODE": "simple",
              "ENABLE_ASSIGNMENT": true,
              "ENABLE_DATALINK": true,
              "FLATTEN_COLUMN_VALUES": true,
              "FLATTEN_INDEX_VALUES": false,
              "GENERATE_DEX_METADATA": false,
              "HTML_TABLE_SCHEMA": false,
              "LOG_LEVEL": 30,
              "MAX_RENDER_SIZE_BYTES": 104857600,
              "MAX_STRING_LENGTH": 250,
              "NUM_PAST_SAMPLES_TRACKED": 3,
              "RANDOM_STATE": 12648430,
              "RESET_INDEX_VALUES": false,
              "ROW_SAMPLING_METHOD": "random",
              "SAMPLING_FACTOR": 0.1,
              "SAMPLING_METHOD": "random",
              "STRINGIFY_COLUMN_VALUES": true,
              "STRINGIFY_INDEX_VALUES": false
            },
            "sample_history": [],
            "sampling_time": "2023-11-10T06:08:15.376879",
            "user_variable_name": null,
            "variable_name": "unk_dataframe_f1ce3728fc3047a88840a49c30c6f212"
          },
          "d2fa3873-1f6f-4713-b374-f45be44d75ef": {
            "applied_filters": [],
            "dataframe_info": {
              "default_index_used": true,
              "orig_num_cols": 19,
              "orig_num_rows": 5,
              "orig_size_bytes": 800,
              "truncated_num_cols": 19,
              "truncated_num_rows": 5,
              "truncated_size_bytes": 800,
              "truncated_string_columns": []
            },
            "display_id": "d2fa3873-1f6f-4713-b374-f45be44d75ef",
            "dx_settings": {
              "ALLOW_NOTEABLE_ATTRS": true,
              "COLUMN_SAMPLING_METHOD": "outer",
              "DB_LOCATION": ":memory:",
              "DEV_MODE": false,
              "DISPLAY_MAX_COLUMNS": 100,
              "DISPLAY_MAX_ROWS": 50000,
              "DISPLAY_MODE": "simple",
              "ENABLE_ASSIGNMENT": true,
              "ENABLE_DATALINK": true,
              "FLATTEN_COLUMN_VALUES": true,
              "FLATTEN_INDEX_VALUES": false,
              "GENERATE_DEX_METADATA": false,
              "HTML_TABLE_SCHEMA": false,
              "LOG_LEVEL": 30,
              "MAX_RENDER_SIZE_BYTES": 104857600,
              "MAX_STRING_LENGTH": 250,
              "NUM_PAST_SAMPLES_TRACKED": 3,
              "RANDOM_STATE": 12648430,
              "RESET_INDEX_VALUES": false,
              "ROW_SAMPLING_METHOD": "random",
              "SAMPLING_FACTOR": 0.1,
              "SAMPLING_METHOD": "random",
              "STRINGIFY_COLUMN_VALUES": true,
              "STRINGIFY_INDEX_VALUES": false
            },
            "sample_history": [],
            "sampling_time": "2023-11-10T06:13:58.133061",
            "user_variable_name": null,
            "variable_name": "unk_dataframe_aa326499f7fb4d48949a69d9b8e9b773"
          },
          "ad69c17d-2a33-4ade-af0f-315abf679664": {
            "applied_filters": [],
            "dataframe_info": {
              "default_index_used": true,
              "orig_num_cols": 19,
              "orig_num_rows": 5,
              "orig_size_bytes": 800,
              "truncated_num_cols": 19,
              "truncated_num_rows": 5,
              "truncated_size_bytes": 800,
              "truncated_string_columns": []
            },
            "display_id": "ad69c17d-2a33-4ade-af0f-315abf679664",
            "dx_settings": {
              "ALLOW_NOTEABLE_ATTRS": true,
              "COLUMN_SAMPLING_METHOD": "outer",
              "DB_LOCATION": ":memory:",
              "DEV_MODE": false,
              "DISPLAY_MAX_COLUMNS": 100,
              "DISPLAY_MAX_ROWS": 50000,
              "DISPLAY_MODE": "simple",
              "ENABLE_ASSIGNMENT": true,
              "ENABLE_DATALINK": true,
              "FLATTEN_COLUMN_VALUES": true,
              "FLATTEN_INDEX_VALUES": false,
              "GENERATE_DEX_METADATA": false,
              "HTML_TABLE_SCHEMA": false,
              "LOG_LEVEL": 30,
              "MAX_RENDER_SIZE_BYTES": 104857600,
              "MAX_STRING_LENGTH": 250,
              "NUM_PAST_SAMPLES_TRACKED": 3,
              "RANDOM_STATE": 12648430,
              "RESET_INDEX_VALUES": false,
              "ROW_SAMPLING_METHOD": "random",
              "SAMPLING_FACTOR": 0.1,
              "SAMPLING_METHOD": "random",
              "STRINGIFY_COLUMN_VALUES": true,
              "STRINGIFY_INDEX_VALUES": false
            },
            "sample_history": [],
            "sampling_time": "2023-11-10T14:14:11.390699",
            "user_variable_name": null,
            "variable_name": "unk_dataframe_d8b21ccf59824fa2aa0df20cf13e31b7"
          },
          "3cb049d6-2b28-4985-93f0-53bfd270b657": {
            "applied_filters": [],
            "dataframe_info": {
              "default_index_used": true,
              "orig_num_cols": 19,
              "orig_num_rows": 5,
              "orig_size_bytes": 800,
              "truncated_num_cols": 19,
              "truncated_num_rows": 5,
              "truncated_size_bytes": 800,
              "truncated_string_columns": []
            },
            "display_id": "3cb049d6-2b28-4985-93f0-53bfd270b657",
            "dx_settings": {
              "ALLOW_NOTEABLE_ATTRS": true,
              "COLUMN_SAMPLING_METHOD": "outer",
              "DB_LOCATION": ":memory:",
              "DEV_MODE": false,
              "DISPLAY_MAX_COLUMNS": 100,
              "DISPLAY_MAX_ROWS": 50000,
              "DISPLAY_MODE": "simple",
              "ENABLE_ASSIGNMENT": true,
              "ENABLE_DATALINK": true,
              "FLATTEN_COLUMN_VALUES": true,
              "FLATTEN_INDEX_VALUES": false,
              "GENERATE_DEX_METADATA": false,
              "HTML_TABLE_SCHEMA": false,
              "LOG_LEVEL": 30,
              "MAX_RENDER_SIZE_BYTES": 104857600,
              "MAX_STRING_LENGTH": 250,
              "NUM_PAST_SAMPLES_TRACKED": 3,
              "RANDOM_STATE": 12648430,
              "RESET_INDEX_VALUES": false,
              "ROW_SAMPLING_METHOD": "random",
              "SAMPLING_FACTOR": 0.1,
              "SAMPLING_METHOD": "random",
              "STRINGIFY_COLUMN_VALUES": true,
              "STRINGIFY_INDEX_VALUES": false
            },
            "sample_history": [],
            "sampling_time": "2023-11-10T14:22:52.789493",
            "user_variable_name": null,
            "variable_name": "unk_dataframe_272dba6165b94628a11795f3128c50e1"
          },
          "f2558f1a-7313-4191-b444-738e4ce9c581": {
            "applied_filters": [],
            "dataframe_info": {
              "default_index_used": true,
              "orig_num_cols": 19,
              "orig_num_rows": 5,
              "orig_size_bytes": 800,
              "truncated_num_cols": 19,
              "truncated_num_rows": 5,
              "truncated_size_bytes": 800,
              "truncated_string_columns": []
            },
            "display_id": "f2558f1a-7313-4191-b444-738e4ce9c581",
            "dx_settings": {
              "ALLOW_NOTEABLE_ATTRS": true,
              "COLUMN_SAMPLING_METHOD": "outer",
              "DB_LOCATION": ":memory:",
              "DEV_MODE": false,
              "DISPLAY_MAX_COLUMNS": 100,
              "DISPLAY_MAX_ROWS": 50000,
              "DISPLAY_MODE": "simple",
              "ENABLE_ASSIGNMENT": true,
              "ENABLE_DATALINK": true,
              "FLATTEN_COLUMN_VALUES": true,
              "FLATTEN_INDEX_VALUES": false,
              "GENERATE_DEX_METADATA": false,
              "HTML_TABLE_SCHEMA": false,
              "LOG_LEVEL": 30,
              "MAX_RENDER_SIZE_BYTES": 104857600,
              "MAX_STRING_LENGTH": 250,
              "NUM_PAST_SAMPLES_TRACKED": 3,
              "RANDOM_STATE": 12648430,
              "RESET_INDEX_VALUES": false,
              "ROW_SAMPLING_METHOD": "random",
              "SAMPLING_FACTOR": 0.1,
              "SAMPLING_METHOD": "random",
              "STRINGIFY_COLUMN_VALUES": true,
              "STRINGIFY_INDEX_VALUES": false
            },
            "sample_history": [],
            "sampling_time": "2023-11-10T14:36:20.725366",
            "user_variable_name": null,
            "variable_name": "unk_dataframe_b2e1913c755e4d4480b6b1015bc857fa"
          },
          "c4407dee-ed26-4b15-beed-2a5a8a15542e": {
            "applied_filters": [],
            "dataframe_info": {
              "default_index_used": true,
              "orig_num_cols": 19,
              "orig_num_rows": 5,
              "orig_size_bytes": 800,
              "truncated_num_cols": 19,
              "truncated_num_rows": 5,
              "truncated_size_bytes": 800,
              "truncated_string_columns": []
            },
            "display_id": "c4407dee-ed26-4b15-beed-2a5a8a15542e",
            "dx_settings": {
              "ALLOW_NOTEABLE_ATTRS": true,
              "COLUMN_SAMPLING_METHOD": "outer",
              "DB_LOCATION": ":memory:",
              "DEV_MODE": false,
              "DISPLAY_MAX_COLUMNS": 100,
              "DISPLAY_MAX_ROWS": 50000,
              "DISPLAY_MODE": "simple",
              "ENABLE_ASSIGNMENT": true,
              "ENABLE_DATALINK": true,
              "FLATTEN_COLUMN_VALUES": true,
              "FLATTEN_INDEX_VALUES": false,
              "GENERATE_DEX_METADATA": false,
              "HTML_TABLE_SCHEMA": false,
              "LOG_LEVEL": 30,
              "MAX_RENDER_SIZE_BYTES": 104857600,
              "MAX_STRING_LENGTH": 250,
              "NUM_PAST_SAMPLES_TRACKED": 3,
              "RANDOM_STATE": 12648430,
              "RESET_INDEX_VALUES": false,
              "ROW_SAMPLING_METHOD": "random",
              "SAMPLING_FACTOR": 0.1,
              "SAMPLING_METHOD": "random",
              "STRINGIFY_COLUMN_VALUES": true,
              "STRINGIFY_INDEX_VALUES": false
            },
            "sample_history": [],
            "sampling_time": "2023-11-10T14:37:48.937886",
            "user_variable_name": null,
            "variable_name": "unk_dataframe_acb6d7468ee34bb0b71bba37214ce594"
          },
          "bb239d5e-829a-4d57-b010-61ba94901b5d": {
            "applied_filters": [],
            "dataframe_info": {
              "default_index_used": true,
              "orig_num_cols": 19,
              "orig_num_rows": 5,
              "orig_size_bytes": 800,
              "truncated_num_cols": 19,
              "truncated_num_rows": 5,
              "truncated_size_bytes": 800,
              "truncated_string_columns": []
            },
            "display_id": "bb239d5e-829a-4d57-b010-61ba94901b5d",
            "dx_settings": {
              "ALLOW_NOTEABLE_ATTRS": true,
              "COLUMN_SAMPLING_METHOD": "outer",
              "DB_LOCATION": ":memory:",
              "DEV_MODE": false,
              "DISPLAY_MAX_COLUMNS": 100,
              "DISPLAY_MAX_ROWS": 50000,
              "DISPLAY_MODE": "simple",
              "ENABLE_ASSIGNMENT": true,
              "ENABLE_DATALINK": true,
              "FLATTEN_COLUMN_VALUES": true,
              "FLATTEN_INDEX_VALUES": false,
              "GENERATE_DEX_METADATA": false,
              "HTML_TABLE_SCHEMA": false,
              "LOG_LEVEL": 30,
              "MAX_RENDER_SIZE_BYTES": 104857600,
              "MAX_STRING_LENGTH": 250,
              "NUM_PAST_SAMPLES_TRACKED": 3,
              "RANDOM_STATE": 12648430,
              "RESET_INDEX_VALUES": false,
              "ROW_SAMPLING_METHOD": "random",
              "SAMPLING_FACTOR": 0.1,
              "SAMPLING_METHOD": "random",
              "STRINGIFY_COLUMN_VALUES": true,
              "STRINGIFY_INDEX_VALUES": false
            },
            "sample_history": [],
            "sampling_time": "2023-11-11T06:55:33.087489",
            "user_variable_name": null,
            "variable_name": "unk_dataframe_084f4e48d1504c68964c9d960e9f3e27"
          }
        }
      },
      "execution_count": null,
      "source": "import pandas as pd\nimport matplotlib.pyplot as plt\nimport seaborn as sns\n\n# Set the aesthetics for the plots\nsns.set(style=\"whitegrid\")\n\n# Load the dataset\nfile_path = 'Community_Safety_Data.csv'\ndata = pd.read_csv(file_path)\n\n# Display the first few rows of the dataframe\ndata.head()",
      "outputs": []
    },
    {
      "id": "088c373e-793b-459c-abc1-6b23916d8a3d",
      "cell_type": "code",
      "metadata": {
        "noteable": {
          "cell_type": "code",
          "output_collection_id": "de199176-7d43-47a5-935c-f8d1588d0545"
        },
        "ExecuteTime": {
          "end_time": "2023-11-11T06:55:33.565850+00:00",
          "start_time": "2023-11-11T06:55:33.257475+00:00"
        }
      },
      "execution_count": null,
      "source": "# Convert 'rep_date' to datetime\ndata['rep_date'] = pd.to_datetime(data['rep_date'].astype(str), errors='coerce')\n\ndata['rep_date'] = pd.to_datetime(data['rep_date'], format = '%Y %m %d %H:%M:%S')\n# print(crime_df.head())\n# Check the conversion\ndata.info()\n\n# Descriptive statistics for datetime column\n#data['rep_date'].describe(datetime_is_numeric=True)",
      "outputs": []
    },
    {
      "id": "6ed4dde8-63b3-461a-8cb5-9152789f5a4a",
      "cell_type": "code",
      "metadata": {
        "noteable": {
          "cell_type": "code",
          "output_collection_id": "0c601737-bef1-46f9-939b-7cae85c35b2c"
        },
        "ExecuteTime": {
          "end_time": "2023-11-11T06:55:35.631667+00:00",
          "start_time": "2023-11-11T06:55:33.572077+00:00"
        }
      },
      "execution_count": null,
      "source": "# Visualize the number of crimes over time\nplt.figure(figsize=(15, 6))\nsns.histplot(data['rep_date'].dt.date, bins=100, kde=False)\nplt.title('Crime Reports Over Time')\nplt.xlabel('Date')\nplt.ylabel('Number of Crimes Reported')\nplt.xticks(rotation=45)\nplt.tight_layout()\nplt.show()",
      "outputs": []
    },
    {
      "id": "24166043-2057-48a0-8899-52edbafa2bc4",
      "cell_type": "code",
      "metadata": {
        "noteable": {
          "cell_type": "code",
          "output_collection_id": "6fe5d15e-1225-473c-b686-0e47e0e2a3f0"
        },
        "ExecuteTime": {
          "end_time": "2023-11-11T06:55:36.816699+00:00",
          "start_time": "2023-11-11T06:55:35.824182+00:00"
        },
        "datalink": {
          "513da0b4-f379-48da-b8a0-1b3fc8319793": {
            "applied_filters": [],
            "dataframe_info": {
              "default_index_used": false,
              "orig_num_cols": 12,
              "orig_num_rows": 5,
              "orig_size_bytes": 1918,
              "truncated_num_cols": 12,
              "truncated_num_rows": 5,
              "truncated_size_bytes": 1918,
              "truncated_string_columns": []
            },
            "display_id": "513da0b4-f379-48da-b8a0-1b3fc8319793",
            "dx_settings": {
              "ALLOW_NOTEABLE_ATTRS": true,
              "COLUMN_SAMPLING_METHOD": "outer",
              "DB_LOCATION": ":memory:",
              "DEV_MODE": false,
              "DISPLAY_MAX_COLUMNS": 100,
              "DISPLAY_MAX_ROWS": 50000,
              "DISPLAY_MODE": "simple",
              "ENABLE_ASSIGNMENT": true,
              "ENABLE_DATALINK": true,
              "FLATTEN_COLUMN_VALUES": true,
              "FLATTEN_INDEX_VALUES": false,
              "GENERATE_DEX_METADATA": false,
              "HTML_TABLE_SCHEMA": false,
              "LOG_LEVEL": 30,
              "MAX_RENDER_SIZE_BYTES": 104857600,
              "MAX_STRING_LENGTH": 250,
              "NUM_PAST_SAMPLES_TRACKED": 3,
              "RANDOM_STATE": 12648430,
              "RESET_INDEX_VALUES": false,
              "ROW_SAMPLING_METHOD": "random",
              "SAMPLING_FACTOR": 0.1,
              "SAMPLING_METHOD": "random",
              "STRINGIFY_COLUMN_VALUES": true,
              "STRINGIFY_INDEX_VALUES": false
            },
            "sample_history": [],
            "sampling_time": "2023-11-10T01:02:43.425124",
            "user_variable_name": null,
            "variable_name": "unk_dataframe_8c11988a202f424ebf078c26353c425e"
          },
          "213032c7-b0a4-416e-b9c8-da3036789efb": {
            "applied_filters": [],
            "dataframe_info": {
              "default_index_used": false,
              "orig_num_cols": 12,
              "orig_num_rows": 5,
              "orig_size_bytes": 1918,
              "truncated_num_cols": 12,
              "truncated_num_rows": 5,
              "truncated_size_bytes": 1918,
              "truncated_string_columns": []
            },
            "display_id": "213032c7-b0a4-416e-b9c8-da3036789efb",
            "dx_settings": {
              "ALLOW_NOTEABLE_ATTRS": true,
              "COLUMN_SAMPLING_METHOD": "outer",
              "DB_LOCATION": ":memory:",
              "DEV_MODE": false,
              "DISPLAY_MAX_COLUMNS": 100,
              "DISPLAY_MAX_ROWS": 50000,
              "DISPLAY_MODE": "simple",
              "ENABLE_ASSIGNMENT": true,
              "ENABLE_DATALINK": true,
              "FLATTEN_COLUMN_VALUES": true,
              "FLATTEN_INDEX_VALUES": false,
              "GENERATE_DEX_METADATA": false,
              "HTML_TABLE_SCHEMA": false,
              "LOG_LEVEL": 30,
              "MAX_RENDER_SIZE_BYTES": 104857600,
              "MAX_STRING_LENGTH": 250,
              "NUM_PAST_SAMPLES_TRACKED": 3,
              "RANDOM_STATE": 12648430,
              "RESET_INDEX_VALUES": false,
              "ROW_SAMPLING_METHOD": "random",
              "SAMPLING_FACTOR": 0.1,
              "SAMPLING_METHOD": "random",
              "STRINGIFY_COLUMN_VALUES": true,
              "STRINGIFY_INDEX_VALUES": false
            },
            "sample_history": [],
            "sampling_time": "2023-11-10T06:15:56.690057",
            "user_variable_name": null,
            "variable_name": "unk_dataframe_5f0c43770fc4436c8795e97fdd0c1bd7"
          },
          "f1f4712b-8b9b-4e0c-bf1d-8ae940169f0d": {
            "applied_filters": [],
            "dataframe_info": {
              "default_index_used": false,
              "orig_num_cols": 12,
              "orig_num_rows": 5,
              "orig_size_bytes": 1918,
              "truncated_num_cols": 12,
              "truncated_num_rows": 5,
              "truncated_size_bytes": 1918,
              "truncated_string_columns": []
            },
            "display_id": "f1f4712b-8b9b-4e0c-bf1d-8ae940169f0d",
            "dx_settings": {
              "ALLOW_NOTEABLE_ATTRS": true,
              "COLUMN_SAMPLING_METHOD": "outer",
              "DB_LOCATION": ":memory:",
              "DEV_MODE": false,
              "DISPLAY_MAX_COLUMNS": 100,
              "DISPLAY_MAX_ROWS": 50000,
              "DISPLAY_MODE": "simple",
              "ENABLE_ASSIGNMENT": true,
              "ENABLE_DATALINK": true,
              "FLATTEN_COLUMN_VALUES": true,
              "FLATTEN_INDEX_VALUES": false,
              "GENERATE_DEX_METADATA": false,
              "HTML_TABLE_SCHEMA": false,
              "LOG_LEVEL": 30,
              "MAX_RENDER_SIZE_BYTES": 104857600,
              "MAX_STRING_LENGTH": 250,
              "NUM_PAST_SAMPLES_TRACKED": 3,
              "RANDOM_STATE": 12648430,
              "RESET_INDEX_VALUES": false,
              "ROW_SAMPLING_METHOD": "random",
              "SAMPLING_FACTOR": 0.1,
              "SAMPLING_METHOD": "random",
              "STRINGIFY_COLUMN_VALUES": true,
              "STRINGIFY_INDEX_VALUES": false
            },
            "sample_history": [],
            "sampling_time": "2023-11-10T14:22:56.277959",
            "user_variable_name": null,
            "variable_name": "unk_dataframe_dd0fd374dc4a42aeb327d3add961454a"
          },
          "545b3b9a-b297-42ab-b074-e78b3b6f9c6f": {
            "applied_filters": [],
            "dataframe_info": {
              "default_index_used": false,
              "orig_num_cols": 12,
              "orig_num_rows": 5,
              "orig_size_bytes": 1918,
              "truncated_num_cols": 12,
              "truncated_num_rows": 5,
              "truncated_size_bytes": 1918,
              "truncated_string_columns": []
            },
            "display_id": "545b3b9a-b297-42ab-b074-e78b3b6f9c6f",
            "dx_settings": {
              "ALLOW_NOTEABLE_ATTRS": true,
              "COLUMN_SAMPLING_METHOD": "outer",
              "DB_LOCATION": ":memory:",
              "DEV_MODE": false,
              "DISPLAY_MAX_COLUMNS": 100,
              "DISPLAY_MAX_ROWS": 50000,
              "DISPLAY_MODE": "simple",
              "ENABLE_ASSIGNMENT": true,
              "ENABLE_DATALINK": true,
              "FLATTEN_COLUMN_VALUES": true,
              "FLATTEN_INDEX_VALUES": false,
              "GENERATE_DEX_METADATA": false,
              "HTML_TABLE_SCHEMA": false,
              "LOG_LEVEL": 30,
              "MAX_RENDER_SIZE_BYTES": 104857600,
              "MAX_STRING_LENGTH": 250,
              "NUM_PAST_SAMPLES_TRACKED": 3,
              "RANDOM_STATE": 12648430,
              "RESET_INDEX_VALUES": false,
              "ROW_SAMPLING_METHOD": "random",
              "SAMPLING_FACTOR": 0.1,
              "SAMPLING_METHOD": "random",
              "STRINGIFY_COLUMN_VALUES": true,
              "STRINGIFY_INDEX_VALUES": false
            },
            "sample_history": [],
            "sampling_time": "2023-11-11T06:55:36.655154",
            "user_variable_name": null,
            "variable_name": "unk_dataframe_03ea1e1183e447f9b71380de2980db43"
          }
        }
      },
      "execution_count": null,
      "source": "# Extract year and month from 'rep_date'\ndata['year'] = data['rep_date'].dt.year\ndata['month'] = data['rep_date'].dt.month_name()\n\n# Group the data by 'municipality', 'year', 'month', and 'occ_type'\ngrouped_data = data.groupby(['municipality', 'year', 'month', 'occ_type']).size().reset_index(name='counts')\n\n# Pivot the data to have months as columns and counts as values\npivot_table = grouped_data.pivot_table(index=['municipality', 'year', 'occ_type'], columns='month', values='counts', fill_value=0)\n\n# Display the pivot table\npivot_table.head()",
      "outputs": []
    },
    {
      "id": "d5ea2e5f-8f5c-4168-bbcb-1675288ce998",
      "cell_type": "code",
      "metadata": {
        "noteable": {
          "cell_type": "code",
          "output_collection_id": "1dea74ba-0793-4128-a25d-99eb109f2561"
        },
        "ExecuteTime": {
          "end_time": "2023-11-11T06:55:51.458702+00:00",
          "start_time": "2023-11-11T06:55:36.870186+00:00"
        }
      },
      "execution_count": null,
      "source": "# Visualize the count of 'occ_type' for each 'municipality' across 'year' and 'month'\nfor municipality in pivot_table.index.get_level_values(0).unique():\n    municipality_data = pivot_table.xs(municipality, level='municipality')\n    plt.figure(figsize=(20, 10))\n    sns.heatmap(municipality_data, annot=True, fmt=\"d\", linewidths=.5, cmap=\"YlGnBu\")\n    plt.title(f'Crime Count by Occurrence Type in {municipality} (Year and Month)')\n    plt.ylabel('Year and Occurrence Type')\n    plt.xlabel('Month')\n    plt.xticks(rotation=45)\n    plt.yticks(rotation=0)\n    plt.show()",
      "outputs": []
    },
    {
      "id": "511b7d2f-fd69-4153-ac51-e99de4123bbe",
      "cell_type": "code",
      "metadata": {
        "noteable": {
          "cell_type": "code",
          "output_collection_id": "c3c855d2-626b-4c87-82e8-842e2f421731"
        },
        "ExecuteTime": {
          "end_time": "2023-11-11T06:55:52.698253+00:00",
          "start_time": "2023-11-11T06:55:51.794390+00:00"
        },
        "datalink": {
          "61c31742-a2f9-4a77-bc7f-ce5fd7d42c5e": {
            "applied_filters": [],
            "dataframe_info": {
              "default_index_used": false,
              "orig_num_cols": 3,
              "orig_num_rows": 5,
              "orig_size_bytes": 1368,
              "truncated_num_cols": 3,
              "truncated_num_rows": 5,
              "truncated_size_bytes": 1368,
              "truncated_string_columns": []
            },
            "display_id": "61c31742-a2f9-4a77-bc7f-ce5fd7d42c5e",
            "dx_settings": {
              "ALLOW_NOTEABLE_ATTRS": true,
              "COLUMN_SAMPLING_METHOD": "outer",
              "DB_LOCATION": ":memory:",
              "DEV_MODE": false,
              "DISPLAY_MAX_COLUMNS": 100,
              "DISPLAY_MAX_ROWS": 50000,
              "DISPLAY_MODE": "simple",
              "ENABLE_ASSIGNMENT": true,
              "ENABLE_DATALINK": true,
              "FLATTEN_COLUMN_VALUES": true,
              "FLATTEN_INDEX_VALUES": false,
              "GENERATE_DEX_METADATA": false,
              "HTML_TABLE_SCHEMA": false,
              "LOG_LEVEL": 30,
              "MAX_RENDER_SIZE_BYTES": 104857600,
              "MAX_STRING_LENGTH": 250,
              "NUM_PAST_SAMPLES_TRACKED": 3,
              "RANDOM_STATE": 12648430,
              "RESET_INDEX_VALUES": false,
              "ROW_SAMPLING_METHOD": "random",
              "SAMPLING_FACTOR": 0.1,
              "SAMPLING_METHOD": "random",
              "STRINGIFY_COLUMN_VALUES": true,
              "STRINGIFY_INDEX_VALUES": false
            },
            "sample_history": [],
            "sampling_time": "2023-11-10T01:11:25.272031",
            "user_variable_name": null,
            "variable_name": "unk_dataframe_02523792f3b2419e86aca60da25726a2"
          },
          "ab517a06-626a-4131-bbde-d06810ff15eb": {
            "applied_filters": [],
            "dataframe_info": {
              "default_index_used": false,
              "orig_num_cols": 3,
              "orig_num_rows": 5,
              "orig_size_bytes": 1368,
              "truncated_num_cols": 3,
              "truncated_num_rows": 5,
              "truncated_size_bytes": 1368,
              "truncated_string_columns": []
            },
            "display_id": "ab517a06-626a-4131-bbde-d06810ff15eb",
            "dx_settings": {
              "ALLOW_NOTEABLE_ATTRS": true,
              "COLUMN_SAMPLING_METHOD": "outer",
              "DB_LOCATION": ":memory:",
              "DEV_MODE": false,
              "DISPLAY_MAX_COLUMNS": 100,
              "DISPLAY_MAX_ROWS": 50000,
              "DISPLAY_MODE": "simple",
              "ENABLE_ASSIGNMENT": true,
              "ENABLE_DATALINK": true,
              "FLATTEN_COLUMN_VALUES": true,
              "FLATTEN_INDEX_VALUES": false,
              "GENERATE_DEX_METADATA": false,
              "HTML_TABLE_SCHEMA": false,
              "LOG_LEVEL": 30,
              "MAX_RENDER_SIZE_BYTES": 104857600,
              "MAX_STRING_LENGTH": 250,
              "NUM_PAST_SAMPLES_TRACKED": 3,
              "RANDOM_STATE": 12648430,
              "RESET_INDEX_VALUES": false,
              "ROW_SAMPLING_METHOD": "random",
              "SAMPLING_FACTOR": 0.1,
              "SAMPLING_METHOD": "random",
              "STRINGIFY_COLUMN_VALUES": true,
              "STRINGIFY_INDEX_VALUES": false
            },
            "sample_history": [],
            "sampling_time": "2023-11-10T06:16:49.029291",
            "user_variable_name": null,
            "variable_name": "unk_dataframe_808050e11759427b8bd950c5a4fe0c90"
          },
          "7c92230a-750e-40e7-8ed5-66fad3bba97b": {
            "applied_filters": [],
            "dataframe_info": {
              "default_index_used": false,
              "orig_num_cols": 3,
              "orig_num_rows": 5,
              "orig_size_bytes": 1368,
              "truncated_num_cols": 3,
              "truncated_num_rows": 5,
              "truncated_size_bytes": 1368,
              "truncated_string_columns": []
            },
            "display_id": "7c92230a-750e-40e7-8ed5-66fad3bba97b",
            "dx_settings": {
              "ALLOW_NOTEABLE_ATTRS": true,
              "COLUMN_SAMPLING_METHOD": "outer",
              "DB_LOCATION": ":memory:",
              "DEV_MODE": false,
              "DISPLAY_MAX_COLUMNS": 100,
              "DISPLAY_MAX_ROWS": 50000,
              "DISPLAY_MODE": "simple",
              "ENABLE_ASSIGNMENT": true,
              "ENABLE_DATALINK": true,
              "FLATTEN_COLUMN_VALUES": true,
              "FLATTEN_INDEX_VALUES": false,
              "GENERATE_DEX_METADATA": false,
              "HTML_TABLE_SCHEMA": false,
              "LOG_LEVEL": 30,
              "MAX_RENDER_SIZE_BYTES": 104857600,
              "MAX_STRING_LENGTH": 250,
              "NUM_PAST_SAMPLES_TRACKED": 3,
              "RANDOM_STATE": 12648430,
              "RESET_INDEX_VALUES": false,
              "ROW_SAMPLING_METHOD": "random",
              "SAMPLING_FACTOR": 0.1,
              "SAMPLING_METHOD": "random",
              "STRINGIFY_COLUMN_VALUES": true,
              "STRINGIFY_INDEX_VALUES": false
            },
            "sample_history": [],
            "sampling_time": "2023-11-10T14:23:10.361827",
            "user_variable_name": null,
            "variable_name": "unk_dataframe_675a1663c9f644c8993bdd94e9743a3a"
          },
          "8115dd7a-ca01-46b1-b880-e68bc9367ad7": {
            "applied_filters": [],
            "dataframe_info": {
              "default_index_used": false,
              "orig_num_cols": 3,
              "orig_num_rows": 5,
              "orig_size_bytes": 1368,
              "truncated_num_cols": 3,
              "truncated_num_rows": 5,
              "truncated_size_bytes": 1368,
              "truncated_string_columns": []
            },
            "display_id": "8115dd7a-ca01-46b1-b880-e68bc9367ad7",
            "dx_settings": {
              "ALLOW_NOTEABLE_ATTRS": true,
              "COLUMN_SAMPLING_METHOD": "outer",
              "DB_LOCATION": ":memory:",
              "DEV_MODE": false,
              "DISPLAY_MAX_COLUMNS": 100,
              "DISPLAY_MAX_ROWS": 50000,
              "DISPLAY_MODE": "simple",
              "ENABLE_ASSIGNMENT": true,
              "ENABLE_DATALINK": true,
              "FLATTEN_COLUMN_VALUES": true,
              "FLATTEN_INDEX_VALUES": false,
              "GENERATE_DEX_METADATA": false,
              "HTML_TABLE_SCHEMA": false,
              "LOG_LEVEL": 30,
              "MAX_RENDER_SIZE_BYTES": 104857600,
              "MAX_STRING_LENGTH": 250,
              "NUM_PAST_SAMPLES_TRACKED": 3,
              "RANDOM_STATE": 12648430,
              "RESET_INDEX_VALUES": false,
              "ROW_SAMPLING_METHOD": "random",
              "SAMPLING_FACTOR": 0.1,
              "SAMPLING_METHOD": "random",
              "STRINGIFY_COLUMN_VALUES": true,
              "STRINGIFY_INDEX_VALUES": false
            },
            "sample_history": [],
            "sampling_time": "2023-11-11T06:55:52.539517",
            "user_variable_name": null,
            "variable_name": "unk_dataframe_f9141da7e2a44b2fba428df4647ea51e"
          }
        }
      },
      "execution_count": null,
      "source": "# Group the data by 'municipality', 'year', and 'occ_type' and get the counts\nyearly_data = data.groupby(['municipality', 'year', 'occ_type']).size().reset_index(name='counts')\n\n# Pivot the data to have years as columns and counts as values\nyearly_pivot = yearly_data.pivot_table(index=['municipality', 'occ_type'], columns='year', values='counts', fill_value=0)\n\n# Display the pivot table\nyearly_pivot.head()",
      "outputs": []
    },
    {
      "id": "3fd64814-2c6f-478c-be6c-9465e23cb9cd",
      "cell_type": "code",
      "metadata": {
        "noteable": {
          "cell_type": "code",
          "output_collection_id": "990826d9-4c8e-4689-82e9-b028fffd1e46"
        },
        "ExecuteTime": {
          "end_time": "2023-11-11T06:55:57.669804+00:00",
          "start_time": "2023-11-11T06:55:52.702890+00:00"
        }
      },
      "execution_count": null,
      "source": "# Visualize the count of 'occ_type' for each 'municipality' across 'year'\nfor municipality in yearly_pivot.index.get_level_values(0).unique():\n    municipality_yearly_data = yearly_pivot.xs(municipality, level='municipality')\n    plt.figure(figsize=(20, 10))\n    sns.heatmap(municipality_yearly_data, annot=True, fmt=\"d\", linewidths=.5, cmap=\"YlGnBu\")\n    plt.title(f'Crime Count by Occurrence Type in {municipality} (Year)')\n    plt.ylabel('Occurrence Type')\n    plt.xlabel('Year')\n    plt.xticks(rotation=45)\n    plt.yticks(rotation=0)\n    plt.show()",
      "outputs": []
    },
    {
      "id": "5c718b31-36f8-4b2a-8081-1615d011f836",
      "cell_type": "code",
      "metadata": {
        "noteable": {
          "cell_type": "code",
          "output_collection_id": "05e1662f-a715-487e-80f2-7c46639298af"
        },
        "ExecuteTime": {
          "end_time": "2023-11-11T06:55:58.308623+00:00",
          "start_time": "2023-11-11T06:55:57.744335+00:00"
        }
      },
      "execution_count": null,
      "source": "# Create a bar chart for the count of 'occ_type' for each 'municipality' across 'year'\nplt.figure(figsize=(20, 10))\nsns.countplot(x='year', hue='municipality', data=data)\nplt.title('Count of Occurrences by Year and Municipality')\nplt.xlabel('Year')\nplt.ylabel('Count of Occurrences')\nplt.legend(title='Municipality')\nplt.xticks(rotation=45)\nplt.show()",
      "outputs": []
    },
    {
      "id": "9a19aa22-f54a-47b9-bcd3-72094b5032ce",
      "cell_type": "code",
      "metadata": {
        "noteable": {
          "cell_type": "code",
          "output_collection_id": "65e38932-b9b1-45c2-abaf-b286448cdc54"
        },
        "ExecuteTime": {
          "end_time": "2023-11-11T06:55:59.041364+00:00",
          "start_time": "2023-11-11T06:55:58.480065+00:00"
        }
      },
      "execution_count": null,
      "source": "# Create a bar chart for the count of 'LocationCode' for each 'municipality' across 'year'\nplt.figure(figsize=(20, 10))\nsns.countplot(x='year', hue='LocationCode', data=data)\nplt.title('Count of Location Codes by Year and Municipality')\nplt.xlabel('Year')\nplt.ylabel('Count of Location Codes')\nplt.legend(title='Location Code', bbox_to_anchor=(1.05, 1), loc='upper left')\nplt.xticks(rotation=45)\nplt.tight_layout()\nplt.show()",
      "outputs": []
    },
    {
      "id": "8f81fbe9-9b56-493c-a27b-c2aad742b1b1",
      "cell_type": "code",
      "metadata": {
        "noteable": {
          "cell_type": "code",
          "output_collection_id": "a1548d52-70d6-45ef-b227-baec3748533d"
        },
        "ExecuteTime": {
          "end_time": "2023-11-11T06:56:00.230280+00:00",
          "start_time": "2023-11-11T06:55:59.183950+00:00"
        }
      },
      "execution_count": null,
      "source": "# Group the data by 'year', 'municipality', and 'LocationCode' and get the counts\nlocation_data = data.groupby(['year', 'municipality', 'LocationCode']).size().reset_index(name='counts')\n\n# Create a bar chart\nplt.figure(figsize=(20, 10))\nsns.barplot(x='year', y='counts', hue='municipality', data=location_data)\nplt.title('Count of Occurrences by Location Code, Municipality, and Year')\nplt.xlabel('Year')\nplt.ylabel('Count of Occurrences')\nplt.legend(title='Municipality')\nplt.xticks(rotation=45)\nplt.tight_layout()\nplt.show()",
      "outputs": []
    },
    {
      "id": "8d3e55fa-24ce-4b9c-8397-dec7fa1d86a4",
      "cell_type": "code",
      "metadata": {
        "noteable": {
          "cell_type": "code",
          "output_collection_id": "571f4607-0c69-4c2c-bee7-2f12487d8e27"
        },
        "ExecuteTime": {
          "end_time": "2023-11-11T06:56:01.014795+00:00",
          "start_time": "2023-11-11T06:56:00.388449+00:00"
        }
      },
      "execution_count": null,
      "source": "# Filter the data for LocationCode 'Residence'\nresidence_data = data[data['LocationCode'] == 'Residence']\n\n# Group the filtered data by 'year', 'municipality' and get the counts\nresidence_counts = residence_data.groupby(['year', 'municipality']).size().reset_index(name='counts')\n\n# Create a bar chart for the filtered data\nplt.figure(figsize=(20, 10))\nsns.barplot(x='year', y='counts', hue='municipality', data=residence_counts)\nplt.title('Count of Residence Occurrences by Municipality and Year')\nplt.xlabel('Year')\nplt.ylabel('Count of Residence Occurrences')\nplt.legend(title='Municipality')\nplt.xticks(rotation=45)\nplt.tight_layout()\nplt.show()",
      "outputs": []
    },
    {
      "id": "e03ddb3d-3a99-4687-abb5-43a193ee7357",
      "cell_type": "code",
      "metadata": {
        "noteable": {
          "cell_type": "code",
          "output_collection_id": "d3c926c9-caa6-4e1a-9e18-81b327a58138"
        },
        "ExecuteTime": {
          "end_time": "2023-11-11T06:56:01.994186+00:00",
          "start_time": "2023-11-11T06:56:01.371246+00:00"
        }
      },
      "execution_count": null,
      "source": "# Filter the data for LocationCode 'Business'\nbusiness_data = data[data['LocationCode'] == 'Business']\n\n# Group the filtered data by 'year', 'municipality' and get the counts\nbusiness_counts = business_data.groupby(['year', 'municipality']).size().reset_index(name='counts')\n\n# Create a bar chart for the filtered data\nplt.figure(figsize=(20, 10))\nsns.barplot(x='year', y='counts', hue='municipality', data=business_counts)\nplt.title('Count of Business Occurrences by Municipality and Year')\nplt.xlabel('Year')\nplt.ylabel('Count of Business Occurrences')\nplt.legend(title='Municipality')\nplt.xticks(rotation=45)\nplt.tight_layout()\nplt.show()",
      "outputs": []
    },
    {
      "id": "308198f7-3ff7-4351-9dae-3a67cbc4027b",
      "cell_type": "code",
      "metadata": {
        "noteable": {
          "cell_type": "code",
          "output_collection_id": "2ae0efe8-8185-4899-a1aa-df072d713a11"
        },
        "ExecuteTime": {
          "end_time": "2023-11-11T06:56:03.229068+00:00",
          "start_time": "2023-11-11T06:56:02.200245+00:00"
        },
        "jupyter": {
          "outputs_hidden": false
        }
      },
      "execution_count": null,
      "source": "# Group the data by 'rep_date' and 'municipality' and get the counts\ntrend_data = data.groupby(['rep_date', 'municipality']).size().reset_index(name='counts')\n\n# Pivot the data to have dates as index and municipalities as columns\ntrend_pivot = trend_data.pivot(index='rep_date', columns='municipality', values='counts').fillna(0)\n\n# Plot the trends for each municipality\nplt.figure(figsize=(20, 10))\nfor municipality in trend_pivot.columns:\n    plt.plot(trend_pivot.index, trend_pivot[municipality], label=municipality)\n\nplt.title('Trend of Occurrences for Each Municipality Over Time')\nplt.xlabel('Date')\nplt.ylabel('Count of Occurrences')\nplt.legend()\nplt.xticks(rotation=45)\nplt.tight_layout()\nplt.show()",
      "outputs": []
    },
    {
      "id": "eb888695-e517-4802-9dfc-5e14b5698831",
      "cell_type": "code",
      "metadata": {
        "noteable": {
          "cell_type": "code",
          "output_collection_id": "0da51c33-9736-496a-bdbf-12e6dfea5c92"
        },
        "ExecuteTime": {
          "end_time": "2023-11-11T06:56:05.418109+00:00",
          "start_time": "2023-11-11T06:56:03.477453+00:00"
        }
      },
      "execution_count": null,
      "source": "# Visualize the number of crimes over time\nplt.figure(figsize=(15, 6))\nsns.histplot(data['rep_date'].dt.date, bins=100, kde=False)\nplt.title('Crime Reports Over Time')\nplt.xlabel('Date')\nplt.ylabel('Number of Crimes Reported')\nplt.xticks(rotation=45)\nplt.tight_layout()\nplt.show()",
      "outputs": []
    },
    {
      "id": "1bb32934-72ea-411a-b588-a7fc3789ddee",
      "cell_type": "code",
      "metadata": {
        "noteable": {
          "cell_type": "code",
          "output_collection_id": "3eaa36a7-bc2f-4e11-bfcc-97928fe13a07"
        },
        "ExecuteTime": {
          "end_time": "2023-11-11T06:56:07.726299+00:00",
          "start_time": "2023-11-11T06:56:05.730359+00:00"
        }
      },
      "execution_count": null,
      "source": "import matplotlib.pyplot as plt\nimport seaborn as sns\n\n# Visualize the number of crimes over time\nplt.figure(figsize=(15, 6))\nsns.histplot(data['rep_date'].dt.date, bins=100, kde=False)\nplt.title('Crime Reports Over Time')\nplt.xlabel('Date')\nplt.ylabel('Number of Crimes Reported')\nplt.xticks(rotation=45)\nplt.tight_layout()\nplt.show()",
      "outputs": []
    },
    {
      "id": "a7896320-ae42-4d47-904e-fb5e855de022",
      "cell_type": "code",
      "metadata": {
        "noteable": {
          "cell_type": "code",
          "output_collection_id": "b87addcd-1682-4f7b-af31-bd37822c304f"
        },
        "ExecuteTime": {
          "end_time": "2023-11-11T06:56:10.376677+00:00",
          "start_time": "2023-11-11T06:56:07.907303+00:00"
        }
      },
      "execution_count": null,
      "source": "# Convert 'rep_date' to datetime\ndata['rep_date'] = pd.to_datetime(data['rep_date'].astype(str), errors='coerce')\n\n# Check the conversion\ndata.info()\n\n# Descriptive statistics for datetime column\ndata['rep_date'].describe(datetime_is_numeric=True)",
      "outputs": []
    },
    {
      "id": "bcbd63a0-970a-4d36-a899-1aee786f9ad1",
      "cell_type": "code",
      "metadata": {
        "noteable": {
          "cell_type": "code",
          "output_collection_id": "ea1f9933-f2db-4721-bbe4-cc5878f890a6"
        },
        "ExecuteTime": {
          "end_time": "2023-11-10T06:20:24.854547+00:00",
          "start_time": "2023-11-10T06:20:23.287071+00:00"
        },
        "datalink": {
          "1e475443-336b-49f1-8184-4128024ca53a": {
            "applied_filters": [],
            "dataframe_info": {
              "default_index_used": false,
              "orig_num_cols": 1,
              "orig_num_rows": 2,
              "orig_size_bytes": 32,
              "truncated_num_cols": 1,
              "truncated_num_rows": 2,
              "truncated_size_bytes": 32,
              "truncated_string_columns": []
            },
            "display_id": "1e475443-336b-49f1-8184-4128024ca53a",
            "dx_settings": {
              "ALLOW_NOTEABLE_ATTRS": true,
              "COLUMN_SAMPLING_METHOD": "outer",
              "DB_LOCATION": ":memory:",
              "DEV_MODE": false,
              "DISPLAY_MAX_COLUMNS": 100,
              "DISPLAY_MAX_ROWS": 50000,
              "DISPLAY_MODE": "simple",
              "ENABLE_ASSIGNMENT": true,
              "ENABLE_DATALINK": true,
              "FLATTEN_COLUMN_VALUES": true,
              "FLATTEN_INDEX_VALUES": false,
              "GENERATE_DEX_METADATA": false,
              "HTML_TABLE_SCHEMA": false,
              "LOG_LEVEL": 30,
              "MAX_RENDER_SIZE_BYTES": 104857600,
              "MAX_STRING_LENGTH": 250,
              "NUM_PAST_SAMPLES_TRACKED": 3,
              "RANDOM_STATE": 12648430,
              "RESET_INDEX_VALUES": false,
              "ROW_SAMPLING_METHOD": "random",
              "SAMPLING_FACTOR": 0.1,
              "SAMPLING_METHOD": "random",
              "STRINGIFY_COLUMN_VALUES": true,
              "STRINGIFY_INDEX_VALUES": false
            },
            "sample_history": [],
            "sampling_time": "2023-11-10T02:35:45.647213",
            "user_variable_name": "highest_risk_municipality",
            "variable_name": "highest_risk_municipality"
          },
          "a979663d-6f18-4f36-9be5-41aebe6fee82": {
            "applied_filters": [],
            "dataframe_info": {
              "default_index_used": false,
              "orig_num_cols": 1,
              "orig_num_rows": 2,
              "orig_size_bytes": 32,
              "truncated_num_cols": 1,
              "truncated_num_rows": 2,
              "truncated_size_bytes": 32,
              "truncated_string_columns": []
            },
            "display_id": "a979663d-6f18-4f36-9be5-41aebe6fee82",
            "dx_settings": {
              "ALLOW_NOTEABLE_ATTRS": true,
              "COLUMN_SAMPLING_METHOD": "outer",
              "DB_LOCATION": ":memory:",
              "DEV_MODE": false,
              "DISPLAY_MAX_COLUMNS": 100,
              "DISPLAY_MAX_ROWS": 50000,
              "DISPLAY_MODE": "simple",
              "ENABLE_ASSIGNMENT": true,
              "ENABLE_DATALINK": true,
              "FLATTEN_COLUMN_VALUES": true,
              "FLATTEN_INDEX_VALUES": false,
              "GENERATE_DEX_METADATA": false,
              "HTML_TABLE_SCHEMA": false,
              "LOG_LEVEL": 30,
              "MAX_RENDER_SIZE_BYTES": 104857600,
              "MAX_STRING_LENGTH": 250,
              "NUM_PAST_SAMPLES_TRACKED": 3,
              "RANDOM_STATE": 12648430,
              "RESET_INDEX_VALUES": false,
              "ROW_SAMPLING_METHOD": "random",
              "SAMPLING_FACTOR": 0.1,
              "SAMPLING_METHOD": "random",
              "STRINGIFY_COLUMN_VALUES": true,
              "STRINGIFY_INDEX_VALUES": false
            },
            "sample_history": [],
            "sampling_time": "2023-11-10T06:20:24.696562",
            "user_variable_name": "highest_risk_municipality",
            "variable_name": "highest_risk_municipality"
          }
        }
      },
      "execution_count": null,
      "source": "# Group the data by 'municipality' and 'rep_date' and get the counts\ndaily_data = data.groupby(['municipality', data['rep_date'].dt.date]).size().reset_index(name='counts')\n\n# Find the municipality with the highest average daily crime count\nmunicipality_risk = daily_data.groupby('municipality')['counts'].mean().reset_index()\nhighest_risk_municipality = municipality_risk.loc[municipality_risk['counts'].idxmax()]\n\n# result: The analysis indicates that the municipality of Vaughan has the highest average daily crime count, with approximately 38.04 incidents per day. This suggests that Vaughan may be at the highest risk of crime increase compared to other municipalities in the dataset.\n# Display the municipality with the highest risk\nhighest_risk_municipality",
      "outputs": []
    },
    {
      "id": "c973dc08-92a2-4cbe-83a7-e3a05a521573",
      "cell_type": "code",
      "metadata": {
        "noteable": {
          "cell_type": "code",
          "output_collection_id": "b8575d14-4f9f-42df-93d2-692346b893e1"
        },
        "ExecuteTime": {
          "end_time": "2023-11-11T06:56:43.184117+00:00",
          "start_time": "2023-11-11T06:56:40.908804+00:00"
        },
        "datalink": {
          "52a3cab3-660a-4d43-afcf-85895b6c55a0": {
            "applied_filters": [],
            "dataframe_info": {
              "default_index_used": true,
              "orig_num_cols": 21,
              "orig_num_rows": 5,
              "orig_size_bytes": 880,
              "truncated_num_cols": 21,
              "truncated_num_rows": 5,
              "truncated_size_bytes": 880,
              "truncated_string_columns": []
            },
            "display_id": "52a3cab3-660a-4d43-afcf-85895b6c55a0",
            "dx_settings": {
              "ALLOW_NOTEABLE_ATTRS": true,
              "COLUMN_SAMPLING_METHOD": "outer",
              "DB_LOCATION": ":memory:",
              "DEV_MODE": false,
              "DISPLAY_MAX_COLUMNS": 100,
              "DISPLAY_MAX_ROWS": 50000,
              "DISPLAY_MODE": "simple",
              "ENABLE_ASSIGNMENT": true,
              "ENABLE_DATALINK": true,
              "FLATTEN_COLUMN_VALUES": true,
              "FLATTEN_INDEX_VALUES": false,
              "GENERATE_DEX_METADATA": false,
              "HTML_TABLE_SCHEMA": false,
              "LOG_LEVEL": 30,
              "MAX_RENDER_SIZE_BYTES": 104857600,
              "MAX_STRING_LENGTH": 250,
              "NUM_PAST_SAMPLES_TRACKED": 3,
              "RANDOM_STATE": 12648430,
              "RESET_INDEX_VALUES": false,
              "ROW_SAMPLING_METHOD": "random",
              "SAMPLING_FACTOR": 0.1,
              "SAMPLING_METHOD": "random",
              "STRINGIFY_COLUMN_VALUES": true,
              "STRINGIFY_INDEX_VALUES": false
            },
            "sample_history": [],
            "sampling_time": "2023-11-10T04:23:16.048068",
            "user_variable_name": null,
            "variable_name": "unk_dataframe_4b58cb53a13a45abb3815d0828f5f5b8"
          },
          "9c5d0978-741b-49ab-a48c-64123ee258ab": {
            "applied_filters": [],
            "dataframe_info": {
              "default_index_used": true,
              "orig_num_cols": 21,
              "orig_num_rows": 5,
              "orig_size_bytes": 880,
              "truncated_num_cols": 21,
              "truncated_num_rows": 5,
              "truncated_size_bytes": 880,
              "truncated_string_columns": []
            },
            "display_id": "9c5d0978-741b-49ab-a48c-64123ee258ab",
            "dx_settings": {
              "ALLOW_NOTEABLE_ATTRS": true,
              "COLUMN_SAMPLING_METHOD": "outer",
              "DB_LOCATION": ":memory:",
              "DEV_MODE": false,
              "DISPLAY_MAX_COLUMNS": 100,
              "DISPLAY_MAX_ROWS": 50000,
              "DISPLAY_MODE": "simple",
              "ENABLE_ASSIGNMENT": true,
              "ENABLE_DATALINK": true,
              "FLATTEN_COLUMN_VALUES": true,
              "FLATTEN_INDEX_VALUES": false,
              "GENERATE_DEX_METADATA": false,
              "HTML_TABLE_SCHEMA": false,
              "LOG_LEVEL": 30,
              "MAX_RENDER_SIZE_BYTES": 104857600,
              "MAX_STRING_LENGTH": 250,
              "NUM_PAST_SAMPLES_TRACKED": 3,
              "RANDOM_STATE": 12648430,
              "RESET_INDEX_VALUES": false,
              "ROW_SAMPLING_METHOD": "random",
              "SAMPLING_FACTOR": 0.1,
              "SAMPLING_METHOD": "random",
              "STRINGIFY_COLUMN_VALUES": true,
              "STRINGIFY_INDEX_VALUES": false
            },
            "sample_history": [],
            "sampling_time": "2023-11-10T06:20:37.445850",
            "user_variable_name": null,
            "variable_name": "unk_dataframe_aebcbba903e14efd98fbed548151b305"
          },
          "c122de29-1dd5-475b-8168-859fbe019570": {
            "applied_filters": [],
            "dataframe_info": {
              "default_index_used": true,
              "orig_num_cols": 21,
              "orig_num_rows": 5,
              "orig_size_bytes": 880,
              "truncated_num_cols": 21,
              "truncated_num_rows": 5,
              "truncated_size_bytes": 880,
              "truncated_string_columns": []
            },
            "display_id": "c122de29-1dd5-475b-8168-859fbe019570",
            "dx_settings": {
              "ALLOW_NOTEABLE_ATTRS": true,
              "COLUMN_SAMPLING_METHOD": "outer",
              "DB_LOCATION": ":memory:",
              "DEV_MODE": false,
              "DISPLAY_MAX_COLUMNS": 100,
              "DISPLAY_MAX_ROWS": 50000,
              "DISPLAY_MODE": "simple",
              "ENABLE_ASSIGNMENT": true,
              "ENABLE_DATALINK": true,
              "FLATTEN_COLUMN_VALUES": true,
              "FLATTEN_INDEX_VALUES": false,
              "GENERATE_DEX_METADATA": false,
              "HTML_TABLE_SCHEMA": false,
              "LOG_LEVEL": 30,
              "MAX_RENDER_SIZE_BYTES": 104857600,
              "MAX_STRING_LENGTH": 250,
              "NUM_PAST_SAMPLES_TRACKED": 3,
              "RANDOM_STATE": 12648430,
              "RESET_INDEX_VALUES": false,
              "ROW_SAMPLING_METHOD": "random",
              "SAMPLING_FACTOR": 0.1,
              "SAMPLING_METHOD": "random",
              "STRINGIFY_COLUMN_VALUES": true,
              "STRINGIFY_INDEX_VALUES": false
            },
            "sample_history": [],
            "sampling_time": "2023-11-11T06:56:43.021544",
            "user_variable_name": null,
            "variable_name": "unk_dataframe_5ea9c032578444b2bf361153eea10241"
          }
        }
      },
      "execution_count": null,
      "source": "# Load the Income and Population data\nincome_population_data = pd.read_csv('Income_Population_Data.csv')\n\n# Merge the crime data with the income and population data\nmerged_data = pd.merge(data, income_population_data, on='municipality', how='left')\n\n# Display the first few rows of the merged dataset\nmerged_data.head()",
      "outputs": []
    },
    {
      "id": "6413eedf-15d4-412b-8fc0-9beff7d61839",
      "cell_type": "code",
      "metadata": {
        "noteable": {
          "cell_type": "code",
          "output_collection_id": "feb64b13-c891-40c3-8ff9-5d5c4e674e87"
        },
        "ExecuteTime": {
          "end_time": "2023-11-11T06:56:57.020270+00:00",
          "start_time": "2023-11-11T06:56:56.626457+00:00"
        }
      },
      "execution_count": null,
      "source": "# Ensure the 'counts' column is created by summing up the occurrences for each municipality\nmunicipality_crime_counts = data.groupby('municipality').size().reset_index(name='counts')\n\n# Merge the crime counts with the income and population data\nmerged_data = pd.merge(income_population_data, municipality_crime_counts, on='municipality', how='left')\n\n# Check the correlation between average household income, population, and crime occurrences\ncorrelation_matrix = merged_data[['avg_household_income', 'population', 'counts']].corr()\nsns.heatmap(correlation_matrix, annot=True, fmt='.2f', cmap='coolwarm')\nplt.title('Correlation Matrix for Average Household Income, Population, and Crime Occurrences')\nplt.show()",
      "outputs": []
    },
    {
      "id": "38b78e78-9971-463b-b67e-747063b88ddb",
      "cell_type": "code",
      "metadata": {
        "noteable": {
          "cell_type": "code",
          "output_collection_id": "6e218993-5114-4968-b67d-fec1e8b3ddcd"
        },
        "ExecuteTime": {
          "end_time": "2023-11-10T06:23:47.996576+00:00",
          "start_time": "2023-11-10T06:23:46.519362+00:00"
        },
        "datalink": {
          "3ba7dea1-b6f4-4310-942a-ef8bcc0f6b13": {
            "applied_filters": [],
            "dataframe_info": {
              "default_index_used": true,
              "orig_num_cols": 4,
              "orig_num_rows": 5,
              "orig_size_bytes": 200,
              "truncated_num_cols": 4,
              "truncated_num_rows": 5,
              "truncated_size_bytes": 200,
              "truncated_string_columns": []
            },
            "display_id": "3ba7dea1-b6f4-4310-942a-ef8bcc0f6b13",
            "dx_settings": {
              "ALLOW_NOTEABLE_ATTRS": true,
              "COLUMN_SAMPLING_METHOD": "outer",
              "DB_LOCATION": ":memory:",
              "DEV_MODE": false,
              "DISPLAY_MAX_COLUMNS": 100,
              "DISPLAY_MAX_ROWS": 50000,
              "DISPLAY_MODE": "simple",
              "ENABLE_ASSIGNMENT": true,
              "ENABLE_DATALINK": true,
              "FLATTEN_COLUMN_VALUES": true,
              "FLATTEN_INDEX_VALUES": false,
              "GENERATE_DEX_METADATA": false,
              "HTML_TABLE_SCHEMA": false,
              "LOG_LEVEL": 30,
              "MAX_RENDER_SIZE_BYTES": 104857600,
              "MAX_STRING_LENGTH": 250,
              "NUM_PAST_SAMPLES_TRACKED": 3,
              "RANDOM_STATE": 12648430,
              "RESET_INDEX_VALUES": false,
              "ROW_SAMPLING_METHOD": "random",
              "SAMPLING_FACTOR": 0.1,
              "SAMPLING_METHOD": "random",
              "STRINGIFY_COLUMN_VALUES": true,
              "STRINGIFY_INDEX_VALUES": false
            },
            "sample_history": [],
            "sampling_time": "2023-11-10T06:23:47.837692",
            "user_variable_name": null,
            "variable_name": "unk_dataframe_0bbe607f556f4ccc9ac79c1746d297f1"
          }
        }
      },
      "execution_count": null,
      "source": "# Group the data by municipality, year, and month\nmonthly_data = data.groupby(['municipality', data['year'], data['month']]).size().reset_index(name='counts')\n\n# Sort the data by year and month\nmonthly_data.sort_values(by=['municipality', 'year', 'month'], inplace=True)\n\n# Display the first few rows of the sorted data\nmonthly_data.head()",
      "outputs": []
    },
    {
      "id": "cc193f89-e7b1-4fac-b826-e75ea38d60bd",
      "cell_type": "code",
      "metadata": {
        "noteable": {
          "cell_type": "code",
          "output_collection_id": "e3091331-24b5-4809-83eb-2c25998386c9"
        },
        "ExecuteTime": {
          "end_time": "2023-11-10T06:26:23.466608+00:00",
          "start_time": "2023-11-10T06:26:21.912251+00:00"
        },
        "datalink": {
          "b1b1baff-8fbd-4bbf-b84f-fe5acc23fb08": {
            "applied_filters": [],
            "dataframe_info": {
              "default_index_used": true,
              "orig_num_cols": 4,
              "orig_num_rows": 5,
              "orig_size_bytes": 200,
              "truncated_num_cols": 4,
              "truncated_num_rows": 5,
              "truncated_size_bytes": 200,
              "truncated_string_columns": []
            },
            "display_id": "b1b1baff-8fbd-4bbf-b84f-fe5acc23fb08",
            "dx_settings": {
              "ALLOW_NOTEABLE_ATTRS": true,
              "COLUMN_SAMPLING_METHOD": "outer",
              "DB_LOCATION": ":memory:",
              "DEV_MODE": false,
              "DISPLAY_MAX_COLUMNS": 100,
              "DISPLAY_MAX_ROWS": 50000,
              "DISPLAY_MODE": "simple",
              "ENABLE_ASSIGNMENT": true,
              "ENABLE_DATALINK": true,
              "FLATTEN_COLUMN_VALUES": true,
              "FLATTEN_INDEX_VALUES": false,
              "GENERATE_DEX_METADATA": false,
              "HTML_TABLE_SCHEMA": false,
              "LOG_LEVEL": 30,
              "MAX_RENDER_SIZE_BYTES": 104857600,
              "MAX_STRING_LENGTH": 250,
              "NUM_PAST_SAMPLES_TRACKED": 3,
              "RANDOM_STATE": 12648430,
              "RESET_INDEX_VALUES": false,
              "ROW_SAMPLING_METHOD": "random",
              "SAMPLING_FACTOR": 0.1,
              "SAMPLING_METHOD": "random",
              "STRINGIFY_COLUMN_VALUES": true,
              "STRINGIFY_INDEX_VALUES": false
            },
            "sample_history": [],
            "sampling_time": "2023-11-10T06:26:23.307593",
            "user_variable_name": null,
            "variable_name": "unk_dataframe_a5681a3a2e3446f09fe839ccad95c553"
          }
        }
      },
      "execution_count": null,
      "source": "# Ensure 'rep_date' is in datetime format\ndata['rep_date'] = pd.to_datetime(data['rep_date'])\n\n# Group the data by municipality, year, and month\nmonthly_data = data.groupby(['municipality', data['year'], data['month']]).size().reset_index(name='counts')\n\n# Rename columns for clarity\n#monthly_data.rename(columns={monthly_data.columns[1]: 'Year', monthly_data.columns[2]: 'Month'}, inplace=True)\n\n# Sort the data by year and month\nmonthly_data.sort_values(by=['municipality', 'year', 'month'], inplace=True)\n\n# Display the first few rows of the sorted data\nmonthly_data.head()",
      "outputs": []
    },
    {
      "id": "49504a61-4fe7-409a-b138-090a883aeb5f",
      "cell_type": "code",
      "metadata": {
        "noteable": {
          "cell_type": "code",
          "output_collection_id": "b1c8a4d8-b588-473c-919d-e30927d6d610"
        },
        "ExecuteTime": {
          "end_time": "2023-11-10T06:28:15.155687+00:00",
          "start_time": "2023-11-10T06:28:13.646974+00:00"
        },
        "datalink": {
          "51b5a17a-d96b-45e7-943a-e372cd673132": {
            "applied_filters": [],
            "dataframe_info": {
              "default_index_used": true,
              "orig_num_cols": 3,
              "orig_num_rows": 5,
              "orig_size_bytes": 160,
              "truncated_num_cols": 3,
              "truncated_num_rows": 5,
              "truncated_size_bytes": 160,
              "truncated_string_columns": []
            },
            "display_id": "51b5a17a-d96b-45e7-943a-e372cd673132",
            "dx_settings": {
              "ALLOW_NOTEABLE_ATTRS": true,
              "COLUMN_SAMPLING_METHOD": "outer",
              "DB_LOCATION": ":memory:",
              "DEV_MODE": false,
              "DISPLAY_MAX_COLUMNS": 100,
              "DISPLAY_MAX_ROWS": 50000,
              "DISPLAY_MODE": "simple",
              "ENABLE_ASSIGNMENT": true,
              "ENABLE_DATALINK": true,
              "FLATTEN_COLUMN_VALUES": true,
              "FLATTEN_INDEX_VALUES": false,
              "GENERATE_DEX_METADATA": false,
              "HTML_TABLE_SCHEMA": false,
              "LOG_LEVEL": 30,
              "MAX_RENDER_SIZE_BYTES": 104857600,
              "MAX_STRING_LENGTH": 250,
              "NUM_PAST_SAMPLES_TRACKED": 3,
              "RANDOM_STATE": 12648430,
              "RESET_INDEX_VALUES": false,
              "ROW_SAMPLING_METHOD": "random",
              "SAMPLING_FACTOR": 0.1,
              "SAMPLING_METHOD": "random",
              "STRINGIFY_COLUMN_VALUES": true,
              "STRINGIFY_INDEX_VALUES": false
            },
            "sample_history": [],
            "sampling_time": "2023-11-10T06:28:14.996936",
            "user_variable_name": null,
            "variable_name": "unk_dataframe_dfb2f3abba324148a4c6956fd76297e4"
          }
        }
      },
      "execution_count": null,
      "source": "# Group the data by municipality and year\nyearly_data = data.groupby(['municipality', data['year']]).size().reset_index(name='counts')\n\n# Sort the data by year\nyearly_data.sort_values(by=['municipality', 'year'], inplace=True)\n\n# Display the first few rows of the sorted data\nyearly_data.head()",
      "outputs": []
    },
    {
      "id": "97a095ad-d125-4e2b-b520-d08a41ff5b5b",
      "cell_type": "code",
      "metadata": {
        "noteable": {
          "cell_type": "code",
          "output_collection_id": "51b8a638-05bf-4f98-a3aa-6d8d8d101090"
        },
        "ExecuteTime": {
          "end_time": "2023-11-10T06:50:33.966608+00:00",
          "start_time": "2023-11-10T06:50:33.792348+00:00"
        },
        "datalink": {
          "b1afbf4d-be9e-4b7e-89c9-5bba6938e7ab": {
            "applied_filters": [],
            "dataframe_info": {
              "default_index_used": true,
              "orig_num_cols": 3,
              "orig_num_rows": 5,
              "orig_size_bytes": 160,
              "truncated_num_cols": 3,
              "truncated_num_rows": 5,
              "truncated_size_bytes": 160,
              "truncated_string_columns": []
            },
            "display_id": "b1afbf4d-be9e-4b7e-89c9-5bba6938e7ab",
            "dx_settings": {
              "ALLOW_NOTEABLE_ATTRS": true,
              "COLUMN_SAMPLING_METHOD": "outer",
              "DB_LOCATION": ":memory:",
              "DEV_MODE": false,
              "DISPLAY_MAX_COLUMNS": 100,
              "DISPLAY_MAX_ROWS": 50000,
              "DISPLAY_MODE": "simple",
              "ENABLE_ASSIGNMENT": true,
              "ENABLE_DATALINK": true,
              "FLATTEN_COLUMN_VALUES": true,
              "FLATTEN_INDEX_VALUES": false,
              "GENERATE_DEX_METADATA": false,
              "HTML_TABLE_SCHEMA": false,
              "LOG_LEVEL": 30,
              "MAX_RENDER_SIZE_BYTES": 104857600,
              "MAX_STRING_LENGTH": 250,
              "NUM_PAST_SAMPLES_TRACKED": 3,
              "RANDOM_STATE": 12648430,
              "RESET_INDEX_VALUES": false,
              "ROW_SAMPLING_METHOD": "random",
              "SAMPLING_FACTOR": 0.1,
              "SAMPLING_METHOD": "random",
              "STRINGIFY_COLUMN_VALUES": true,
              "STRINGIFY_INDEX_VALUES": false
            },
            "sample_history": [],
            "sampling_time": "2023-11-10T06:08:58.776074",
            "user_variable_name": null,
            "variable_name": "unk_dataframe_4c3076d9d2d942d38472e00a8132754a"
          },
          "541cec32-90d8-4cb9-83a2-28fef04d0523": {
            "applied_filters": [],
            "dataframe_info": {
              "default_index_used": true,
              "orig_num_cols": 3,
              "orig_num_rows": 5,
              "orig_size_bytes": 160,
              "truncated_num_cols": 3,
              "truncated_num_rows": 5,
              "truncated_size_bytes": 160,
              "truncated_string_columns": []
            },
            "display_id": "541cec32-90d8-4cb9-83a2-28fef04d0523",
            "dx_settings": {
              "ALLOW_NOTEABLE_ATTRS": true,
              "COLUMN_SAMPLING_METHOD": "outer",
              "DB_LOCATION": ":memory:",
              "DEV_MODE": false,
              "DISPLAY_MAX_COLUMNS": 100,
              "DISPLAY_MAX_ROWS": 50000,
              "DISPLAY_MODE": "simple",
              "ENABLE_ASSIGNMENT": true,
              "ENABLE_DATALINK": true,
              "FLATTEN_COLUMN_VALUES": true,
              "FLATTEN_INDEX_VALUES": false,
              "GENERATE_DEX_METADATA": false,
              "HTML_TABLE_SCHEMA": false,
              "LOG_LEVEL": 30,
              "MAX_RENDER_SIZE_BYTES": 104857600,
              "MAX_STRING_LENGTH": 250,
              "NUM_PAST_SAMPLES_TRACKED": 3,
              "RANDOM_STATE": 12648430,
              "RESET_INDEX_VALUES": false,
              "ROW_SAMPLING_METHOD": "random",
              "SAMPLING_FACTOR": 0.1,
              "SAMPLING_METHOD": "random",
              "STRINGIFY_COLUMN_VALUES": true,
              "STRINGIFY_INDEX_VALUES": false
            },
            "sample_history": [],
            "sampling_time": "2023-11-10T06:30:21.628503",
            "user_variable_name": null,
            "variable_name": "unk_dataframe_86ecc9066de04973a9018a2d11350079"
          }
        }
      },
      "execution_count": null,
      "source": "# Group the data by municipality and year\nmonthly_data = data.groupby(['municipality', data['year'], date['month']]).size().reset_index(name='counts')\n\n# Rename columns for clarity\n#yearly_data.rename(columns={yearly_data.columns[1]: 'year'}, inplace=True)\n\n# Sort the data by year\nmonthly_data.sort_values(by=['municipality', 'year','month'], inplace=True)\n\n# Display the first few rows of the sorted data\nmonthly_data.head()",
      "outputs": []
    },
    {
      "id": "83ee3fbe-1e4f-42e1-bc22-e887418a11a6",
      "cell_type": "code",
      "metadata": {
        "noteable": {
          "cell_type": "code",
          "output_collection_id": "bd88b2f0-6e7f-42d4-aed9-fd5d74397c8d"
        },
        "ExecuteTime": {
          "end_time": "2023-11-10T06:30:29.261911+00:00",
          "start_time": "2023-11-10T06:30:28.736386+00:00"
        }
      },
      "execution_count": null,
      "source": "# Create a bar chart for the count of occurrences per municipality per year\nplt.figure(figsize=(15, 8))\nsns.barplot(x='year', y='counts', hue='municipality', data=yearly_data)\nplt.title('Count of Occurrences per Municipality per Year')\nplt.xlabel('Year')\nplt.ylabel('Count of Occurrences')\nplt.legend(title='Municipality')\nplt.show()",
      "outputs": []
    },
    {
      "id": "31c06352-8c38-4842-8196-35099d6590df",
      "cell_type": "code",
      "metadata": {
        "noteable": {
          "cell_type": "code",
          "output_collection_id": "e3caf48d-3352-4edd-ba9d-2e24bf2a2053"
        },
        "ExecuteTime": {
          "end_time": "2023-11-10T14:39:02.126000+00:00",
          "start_time": "2023-11-10T14:39:00.519094+00:00"
        },
        "datalink": {
          "7dbb73a5-a1c6-41a3-8977-af721ca44138": {
            "applied_filters": [],
            "dataframe_info": {
              "default_index_used": true,
              "orig_num_cols": 11,
              "orig_num_rows": 5,
              "orig_size_bytes": 480,
              "truncated_num_cols": 11,
              "truncated_num_rows": 5,
              "truncated_size_bytes": 480,
              "truncated_string_columns": []
            },
            "display_id": "7dbb73a5-a1c6-41a3-8977-af721ca44138",
            "dx_settings": {
              "ALLOW_NOTEABLE_ATTRS": true,
              "COLUMN_SAMPLING_METHOD": "outer",
              "DB_LOCATION": ":memory:",
              "DEV_MODE": false,
              "DISPLAY_MAX_COLUMNS": 100,
              "DISPLAY_MAX_ROWS": 50000,
              "DISPLAY_MODE": "simple",
              "ENABLE_ASSIGNMENT": true,
              "ENABLE_DATALINK": true,
              "FLATTEN_COLUMN_VALUES": true,
              "FLATTEN_INDEX_VALUES": false,
              "GENERATE_DEX_METADATA": false,
              "HTML_TABLE_SCHEMA": false,
              "LOG_LEVEL": 30,
              "MAX_RENDER_SIZE_BYTES": 104857600,
              "MAX_STRING_LENGTH": 250,
              "NUM_PAST_SAMPLES_TRACKED": 3,
              "RANDOM_STATE": 12648430,
              "RESET_INDEX_VALUES": false,
              "ROW_SAMPLING_METHOD": "random",
              "SAMPLING_FACTOR": 0.1,
              "SAMPLING_METHOD": "random",
              "STRINGIFY_COLUMN_VALUES": true,
              "STRINGIFY_INDEX_VALUES": false
            },
            "sample_history": [],
            "sampling_time": "2023-11-10T06:39:05.357731",
            "user_variable_name": null,
            "variable_name": "unk_dataframe_40cc9c338bee457e848fbc5e31bb6b92"
          },
          "3eab48a8-909b-414e-a98c-bf37ca022c14": {
            "applied_filters": [],
            "dataframe_info": {
              "default_index_used": true,
              "orig_num_cols": 11,
              "orig_num_rows": 5,
              "orig_size_bytes": 480,
              "truncated_num_cols": 11,
              "truncated_num_rows": 5,
              "truncated_size_bytes": 480,
              "truncated_string_columns": []
            },
            "display_id": "3eab48a8-909b-414e-a98c-bf37ca022c14",
            "dx_settings": {
              "ALLOW_NOTEABLE_ATTRS": true,
              "COLUMN_SAMPLING_METHOD": "outer",
              "DB_LOCATION": ":memory:",
              "DEV_MODE": false,
              "DISPLAY_MAX_COLUMNS": 100,
              "DISPLAY_MAX_ROWS": 50000,
              "DISPLAY_MODE": "simple",
              "ENABLE_ASSIGNMENT": true,
              "ENABLE_DATALINK": true,
              "FLATTEN_COLUMN_VALUES": true,
              "FLATTEN_INDEX_VALUES": false,
              "GENERATE_DEX_METADATA": false,
              "HTML_TABLE_SCHEMA": false,
              "LOG_LEVEL": 30,
              "MAX_RENDER_SIZE_BYTES": 104857600,
              "MAX_STRING_LENGTH": 250,
              "NUM_PAST_SAMPLES_TRACKED": 3,
              "RANDOM_STATE": 12648430,
              "RESET_INDEX_VALUES": false,
              "ROW_SAMPLING_METHOD": "random",
              "SAMPLING_FACTOR": 0.1,
              "SAMPLING_METHOD": "random",
              "STRINGIFY_COLUMN_VALUES": true,
              "STRINGIFY_INDEX_VALUES": false
            },
            "sample_history": [],
            "sampling_time": "2023-11-10T14:39:01.964514",
            "user_variable_name": null,
            "variable_name": "unk_dataframe_04277e8520dc4c2faea1d4293742d77c"
          }
        }
      },
      "execution_count": null,
      "source": "# Load the District Platoon Staffing Exceptions data\nstaffing_exceptions_data = pd.read_csv('District_Platoon_Staffing_Exceptions.csv')\n\n# Display the first few rows of the data\nstaffing_exceptions_data.head()",
      "outputs": []
    },
    {
      "id": "39ba1b4d-ae27-44a4-b2c9-30788ac7d0b5",
      "cell_type": "code",
      "metadata": {
        "noteable": {
          "cell_type": "code",
          "output_collection_id": "9c22e5db-7f46-44f7-99bc-140479cf68e9"
        },
        "ExecuteTime": {
          "end_time": "2023-11-10T14:54:58.370504+00:00",
          "start_time": "2023-11-10T14:54:56.876068+00:00"
        },
        "datalink": {
          "0bef819b-7c23-4cd3-b94b-d38bd2e1a474": {
            "applied_filters": [],
            "dataframe_info": {
              "default_index_used": true,
              "orig_num_cols": 4,
              "orig_num_rows": 5,
              "orig_size_bytes": 200,
              "truncated_num_cols": 4,
              "truncated_num_rows": 5,
              "truncated_size_bytes": 200,
              "truncated_string_columns": []
            },
            "display_id": "0bef819b-7c23-4cd3-b94b-d38bd2e1a474",
            "dx_settings": {
              "ALLOW_NOTEABLE_ATTRS": true,
              "COLUMN_SAMPLING_METHOD": "outer",
              "DB_LOCATION": ":memory:",
              "DEV_MODE": false,
              "DISPLAY_MAX_COLUMNS": 100,
              "DISPLAY_MAX_ROWS": 50000,
              "DISPLAY_MODE": "simple",
              "ENABLE_ASSIGNMENT": true,
              "ENABLE_DATALINK": true,
              "FLATTEN_COLUMN_VALUES": true,
              "FLATTEN_INDEX_VALUES": false,
              "GENERATE_DEX_METADATA": false,
              "HTML_TABLE_SCHEMA": false,
              "LOG_LEVEL": 30,
              "MAX_RENDER_SIZE_BYTES": 104857600,
              "MAX_STRING_LENGTH": 250,
              "NUM_PAST_SAMPLES_TRACKED": 3,
              "RANDOM_STATE": 12648430,
              "RESET_INDEX_VALUES": false,
              "ROW_SAMPLING_METHOD": "random",
              "SAMPLING_FACTOR": 0.1,
              "SAMPLING_METHOD": "random",
              "STRINGIFY_COLUMN_VALUES": true,
              "STRINGIFY_INDEX_VALUES": false
            },
            "sample_history": [],
            "sampling_time": "2023-11-10T06:43:48.825484",
            "user_variable_name": null,
            "variable_name": "unk_dataframe_cb6c4291e2e34a9d80ed9cc5b61e6c9a"
          },
          "3bc8bb29-5b58-4a0e-8f4a-52664cb707e4": {
            "applied_filters": [],
            "dataframe_info": {
              "default_index_used": true,
              "orig_num_cols": 4,
              "orig_num_rows": 5,
              "orig_size_bytes": 200,
              "truncated_num_cols": 4,
              "truncated_num_rows": 5,
              "truncated_size_bytes": 200,
              "truncated_string_columns": []
            },
            "display_id": "3bc8bb29-5b58-4a0e-8f4a-52664cb707e4",
            "dx_settings": {
              "ALLOW_NOTEABLE_ATTRS": true,
              "COLUMN_SAMPLING_METHOD": "outer",
              "DB_LOCATION": ":memory:",
              "DEV_MODE": false,
              "DISPLAY_MAX_COLUMNS": 100,
              "DISPLAY_MAX_ROWS": 50000,
              "DISPLAY_MODE": "simple",
              "ENABLE_ASSIGNMENT": true,
              "ENABLE_DATALINK": true,
              "FLATTEN_COLUMN_VALUES": true,
              "FLATTEN_INDEX_VALUES": false,
              "GENERATE_DEX_METADATA": false,
              "HTML_TABLE_SCHEMA": false,
              "LOG_LEVEL": 30,
              "MAX_RENDER_SIZE_BYTES": 104857600,
              "MAX_STRING_LENGTH": 250,
              "NUM_PAST_SAMPLES_TRACKED": 3,
              "RANDOM_STATE": 12648430,
              "RESET_INDEX_VALUES": false,
              "ROW_SAMPLING_METHOD": "random",
              "SAMPLING_FACTOR": 0.1,
              "SAMPLING_METHOD": "random",
              "STRINGIFY_COLUMN_VALUES": true,
              "STRINGIFY_INDEX_VALUES": false
            },
            "sample_history": [],
            "sampling_time": "2023-11-10T14:54:58.212186",
            "user_variable_name": null,
            "variable_name": "unk_dataframe_9a05c125779b4376ac5f1aa9404ee89e"
          }
        }
      },
      "execution_count": null,
      "source": "# Convert 'Exception Date' to datetime format\nstaffing_exceptions_data['Exception Date'] = pd.to_datetime(staffing_exceptions_data['Exception Date'])\n\n# Analyze the patterns in staffing exceptions\n# Group by year, month, and day of week\ngrouped_data = staffing_exceptions_data.groupby([staffing_exceptions_data['year'], staffing_exceptions_data['month'], staffing_exceptions_data['day']]).size().reset_index(name='counts')\n\n# Display the first few rows of the grouped data\ngrouped_data.head()",
      "outputs": []
    },
    {
      "id": "7f046b4b-c342-46f8-b5bd-ea93a6f96ce0",
      "cell_type": "code",
      "metadata": {
        "noteable": {
          "cell_type": "code",
          "output_collection_id": "aab6d94a-1398-4542-bfa2-c8a1d0d54c84"
        },
        "ExecuteTime": {
          "end_time": "2023-11-10T14:56:27.029775+00:00",
          "start_time": "2023-11-10T14:56:26.026470+00:00"
        }
      },
      "execution_count": null,
      "source": "import matplotlib.pyplot as plt\nimport seaborn as sns\n\n# Set the aesthetic style of the plots\nsns.set_style('whitegrid')\n\n# Plotting the staffing exceptions\nplt.figure(figsize=(15, 6))\nsns.lineplot(data=grouped_data, x='month', y='counts', hue='year', marker='o')\nplt.title('Staffing Exceptions by Month and Year')\nplt.xlabel('Month')\nplt.ylabel('Number of Staffing Exceptions')\nplt.legend(title='Year')\nplt.xticks(range(1, 13))\nplt.show()",
      "outputs": []
    },
    {
      "id": "5bde3197-8116-468f-a863-f7c4cee8bfe0",
      "cell_type": "code",
      "metadata": {
        "jupyter": {
          "outputs_hidden": false,
          "source_hidden": false
        },
        "noteable": {
          "cell_type": "code",
          "output_collection_id": "b60bada8-6472-42b7-a37f-69a0d9a2e9b3"
        },
        "ExecuteTime": {
          "end_time": "2023-11-10T14:39:12.094521+00:00",
          "start_time": "2023-11-10T14:39:10.603625+00:00"
        },
        "datalink": {
          "89fbcd63-29be-467d-bc19-c94b83aae542": {
            "applied_filters": [],
            "dataframe_info": {
              "default_index_used": true,
              "orig_num_cols": 2,
              "orig_num_rows": 5,
              "orig_size_bytes": 120,
              "truncated_num_cols": 2,
              "truncated_num_rows": 5,
              "truncated_size_bytes": 120,
              "truncated_string_columns": []
            },
            "display_id": "89fbcd63-29be-467d-bc19-c94b83aae542",
            "dx_settings": {
              "ALLOW_NOTEABLE_ATTRS": true,
              "COLUMN_SAMPLING_METHOD": "outer",
              "DB_LOCATION": ":memory:",
              "DEV_MODE": false,
              "DISPLAY_MAX_COLUMNS": 100,
              "DISPLAY_MAX_ROWS": 50000,
              "DISPLAY_MODE": "simple",
              "ENABLE_ASSIGNMENT": true,
              "ENABLE_DATALINK": true,
              "FLATTEN_COLUMN_VALUES": true,
              "FLATTEN_INDEX_VALUES": false,
              "GENERATE_DEX_METADATA": false,
              "HTML_TABLE_SCHEMA": false,
              "LOG_LEVEL": 30,
              "MAX_RENDER_SIZE_BYTES": 104857600,
              "MAX_STRING_LENGTH": 250,
              "NUM_PAST_SAMPLES_TRACKED": 3,
              "RANDOM_STATE": 12648430,
              "RESET_INDEX_VALUES": false,
              "ROW_SAMPLING_METHOD": "random",
              "SAMPLING_FACTOR": 0.1,
              "SAMPLING_METHOD": "random",
              "STRINGIFY_COLUMN_VALUES": true,
              "STRINGIFY_INDEX_VALUES": false
            },
            "sample_history": [],
            "sampling_time": "2023-11-10T14:39:11.933457",
            "user_variable_name": null,
            "variable_name": "unk_dataframe_f6a91c74ff394002a11b86471afaacb9"
          }
        }
      },
      "execution_count": null,
      "source": "# Convert 'Exception Date' to datetime format\nstaffing_exceptions_data['Exception Date'] = pd.to_datetime(staffing_exceptions_data['Exception Date'])\n\n# Analyze the patterns in staffing exceptions\n# Group by year, month, and day of week\ngrouped_data = staffing_exceptions_data.groupby([staffing_exceptions_data['Exception Date']] ).size().reset_index(name='counts').sort_values(by='Exception Date')\n\n# Display the first few rows of the grouped data\ngrouped_data.head()",
      "outputs": []
    },
    {
      "id": "8d357e6b-9350-4a0f-b31c-86c7cec1cb49",
      "cell_type": "code",
      "metadata": {
        "jupyter": {
          "outputs_hidden": false,
          "source_hidden": false
        },
        "noteable": {
          "cell_type": "code",
          "output_collection_id": "bd24e04e-8233-450e-9401-8ac0b6dbfa37"
        },
        "ExecuteTime": {
          "end_time": "2023-11-10T14:53:19.624325+00:00",
          "start_time": "2023-11-10T14:53:05.868347+00:00"
        }
      },
      "execution_count": null,
      "source": "import matplotlib.pyplot as plt\nimport seaborn as sns\n\n# Set the aesthetic style of the plots\nsns.set_style('whitegrid')\n\n# Plotting the staffing exceptions\nplt.figure(figsize=(15, 6))\nsns.lineplot(data=grouped_data, x='Exception Date', y='counts', marker='o')\nplt.title('Staffing Exceptions by Month and Year')\nplt.xlabel('Date')\nplt.ylabel('Number of Staffing Exceptions')\n#plt.legend(title='Year')\n#plt.xticks(range(1, grouped_data['Exception Date'].nunique()+1))\nplt.show()",
      "outputs": []
    }
  ]
}