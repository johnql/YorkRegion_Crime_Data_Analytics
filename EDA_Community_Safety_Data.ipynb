{
  "nbformat": 4,
  "nbformat_minor": 5,
  "metadata": {
    "noteable-chatgpt": {
      "create_notebook": {
        "openai_conversation_id": "19816ca1-67f0-552f-83e3-20185c00e2a6",
        "openai_ephemeral_user_id": "ca2d665b-c3db-59dc-b46c-220b9030f41d",
        "openai_subdivision1_iso_code": "CA-ON"
      }
    },
    "kernel_info": {
      "name": "python3"
    },
    "kernelspec": {
      "display_name": "Python 3.9",
      "identifier": "legacy",
      "language": "python",
      "language_version": "3.9",
      "name": "python3"
    },
    "selected_hardware_size": "small"
  },
  "cells": [
    {
      "id": "5387d163-118b-40b4-8537-6e9bae224377",
      "cell_type": "code",
      "metadata": {
        "noteable": {
          "cell_type": "code",
          "output_collection_id": "b1deebf4-364f-4c80-9115-1398cc9fd00e"
        },
        "ExecuteTime": {
          "end_time": "2023-11-09T06:38:17.312818+00:00",
          "start_time": "2023-11-09T06:38:17.094728+00:00"
        }
      },
      "execution_count": null,
      "source": "import pandas as pd\nimport numpy as np\nimport matplotlib.pyplot as plt\nimport seaborn as sns\n\n# Set the aesthetics for the plots\nsns.set(style='whitegrid')\n\n# Assuming the file is in the current working directory, let's try to load the dataset\nfile_name = 'Year_to_Date_Community_Safety_Data_.csv'\ndata = pd.read_csv(file_name)\n\n# Display the first few rows of the dataframe\ndata.head()",
      "outputs": []
    },
    {
      "id": "fb1a66c1-da41-436e-b95c-8019eaa7dd06",
      "cell_type": "code",
      "metadata": {
        "noteable": {
          "cell_type": "code",
          "output_collection_id": "1ce88f03-594d-4cbf-b9b8-9cc12a2c102f"
        },
        "ExecuteTime": {
          "end_time": "2023-11-09T06:50:23.260457+00:00",
          "start_time": "2023-11-09T06:50:22.613860+00:00"
        },
        "datalink": {
          "b76bbf74-fa00-4487-b433-c29b948869e3": {
            "applied_filters": [],
            "dataframe_info": {
              "default_index_used": true,
              "orig_num_cols": 15,
              "orig_num_rows": 5,
              "orig_size_bytes": 640,
              "truncated_num_cols": 15,
              "truncated_num_rows": 5,
              "truncated_size_bytes": 640,
              "truncated_string_columns": []
            },
            "display_id": "b76bbf74-fa00-4487-b433-c29b948869e3",
            "dx_settings": {
              "ALLOW_NOTEABLE_ATTRS": true,
              "COLUMN_SAMPLING_METHOD": "outer",
              "DB_LOCATION": ":memory:",
              "DEV_MODE": false,
              "DISPLAY_MAX_COLUMNS": 100,
              "DISPLAY_MAX_ROWS": 50000,
              "DISPLAY_MODE": "simple",
              "ENABLE_ASSIGNMENT": true,
              "ENABLE_DATALINK": true,
              "FLATTEN_COLUMN_VALUES": true,
              "FLATTEN_INDEX_VALUES": false,
              "GENERATE_DEX_METADATA": false,
              "HTML_TABLE_SCHEMA": false,
              "LOG_LEVEL": 30,
              "MAX_RENDER_SIZE_BYTES": 104857600,
              "MAX_STRING_LENGTH": 250,
              "NUM_PAST_SAMPLES_TRACKED": 3,
              "RANDOM_STATE": 12648430,
              "RESET_INDEX_VALUES": false,
              "ROW_SAMPLING_METHOD": "random",
              "SAMPLING_FACTOR": 0.1,
              "SAMPLING_METHOD": "random",
              "STRINGIFY_COLUMN_VALUES": true,
              "STRINGIFY_INDEX_VALUES": false
            },
            "sample_history": [],
            "sampling_time": "2023-11-09T06:50:23.095273",
            "user_variable_name": null,
            "variable_name": "unk_dataframe_8ea85f7edab742e7a7bea8376cea632a"
          }
        }
      },
      "execution_count": null,
      "source": "import pandas as pd\nimport numpy as np\nimport matplotlib.pyplot as plt\nimport seaborn as sns\n\n# Set the aesthetics for the plots\nsns.set(style='whitegrid')\n\n# Load the dataset\nfile_path = 'Year_to_Date_Community_Safety_Data_.csv'\ndata = pd.read_csv(file_path)\n\n# Display the first few rows of the dataframe\ndata.head()",
      "outputs": []
    },
    {
      "id": "8e86fa9e-9d4f-4d30-9eb5-2c465ef77a02",
      "cell_type": "code",
      "metadata": {
        "noteable": {
          "cell_type": "code",
          "output_collection_id": "f6c6ebde-d0e1-45f1-bba3-f01e793398b1"
        },
        "ExecuteTime": {
          "end_time": "2023-11-09T06:50:58.012023+00:00",
          "start_time": "2023-11-09T06:50:56.691451+00:00"
        },
        "datalink": {
          "f913aac8-174f-43d8-bc10-ccc02f1fe007": {
            "applied_filters": [],
            "dataframe_info": {
              "default_index_used": false,
              "orig_num_cols": 3,
              "orig_num_rows": 15,
              "orig_size_bytes": 480,
              "truncated_num_cols": 3,
              "truncated_num_rows": 15,
              "truncated_size_bytes": 480,
              "truncated_string_columns": []
            },
            "display_id": "f913aac8-174f-43d8-bc10-ccc02f1fe007",
            "dx_settings": {
              "ALLOW_NOTEABLE_ATTRS": true,
              "COLUMN_SAMPLING_METHOD": "outer",
              "DB_LOCATION": ":memory:",
              "DEV_MODE": false,
              "DISPLAY_MAX_COLUMNS": 100,
              "DISPLAY_MAX_ROWS": 50000,
              "DISPLAY_MODE": "simple",
              "ENABLE_ASSIGNMENT": true,
              "ENABLE_DATALINK": true,
              "FLATTEN_COLUMN_VALUES": true,
              "FLATTEN_INDEX_VALUES": false,
              "GENERATE_DEX_METADATA": false,
              "HTML_TABLE_SCHEMA": false,
              "LOG_LEVEL": 30,
              "MAX_RENDER_SIZE_BYTES": 104857600,
              "MAX_STRING_LENGTH": 250,
              "NUM_PAST_SAMPLES_TRACKED": 3,
              "RANDOM_STATE": 12648430,
              "RESET_INDEX_VALUES": false,
              "ROW_SAMPLING_METHOD": "random",
              "SAMPLING_FACTOR": 0.1,
              "SAMPLING_METHOD": "random",
              "STRINGIFY_COLUMN_VALUES": true,
              "STRINGIFY_INDEX_VALUES": false
            },
            "sample_history": [],
            "sampling_time": "2023-11-09T06:50:57.853264",
            "user_variable_name": "missing_df",
            "variable_name": "missing_df"
          }
        }
      },
      "execution_count": null,
      "source": "# Check for missing values in more detail\nmissing_values = data.isnull().sum()\nmissing_percentage = (missing_values / data.shape[0]) * 100\nmissing_df = pd.DataFrame({'Column Name': data.columns,\n                            'Missing Values': missing_values,\n                            'Percentage Missing': missing_percentage})\n\n# Convert date columns to datetime\ndata['occ_date'] = pd.to_datetime(data['occ_date'], errors='coerce')\ndata['rep_date'] = pd.to_datetime(data['rep_date'], errors='coerce')\n\n# Display missing values dataframe\nmissing_df",
      "outputs": []
    },
    {
      "id": "008cb6b9-2ffc-4325-8654-901fda693158",
      "cell_type": "code",
      "metadata": {
        "noteable": {
          "cell_type": "code",
          "output_collection_id": "26992a2e-b91f-419d-8a68-d15a3ffaf26c"
        },
        "ExecuteTime": {
          "end_time": "2023-11-09T06:51:16.647324+00:00",
          "start_time": "2023-11-09T06:51:15.340115+00:00"
        },
        "datalink": {
          "6597512e-85a0-456c-96b5-c6d669a207c0": {
            "applied_filters": [],
            "dataframe_info": {
              "default_index_used": false,
              "orig_num_cols": 10,
              "orig_num_rows": 4,
              "orig_size_bytes": 352,
              "truncated_num_cols": 10,
              "truncated_num_rows": 4,
              "truncated_size_bytes": 352,
              "truncated_string_columns": []
            },
            "display_id": "6597512e-85a0-456c-96b5-c6d669a207c0",
            "dx_settings": {
              "ALLOW_NOTEABLE_ATTRS": true,
              "COLUMN_SAMPLING_METHOD": "outer",
              "DB_LOCATION": ":memory:",
              "DEV_MODE": false,
              "DISPLAY_MAX_COLUMNS": 100,
              "DISPLAY_MAX_ROWS": 50000,
              "DISPLAY_MODE": "simple",
              "ENABLE_ASSIGNMENT": true,
              "ENABLE_DATALINK": true,
              "FLATTEN_COLUMN_VALUES": true,
              "FLATTEN_INDEX_VALUES": false,
              "GENERATE_DEX_METADATA": false,
              "HTML_TABLE_SCHEMA": false,
              "LOG_LEVEL": 30,
              "MAX_RENDER_SIZE_BYTES": 104857600,
              "MAX_STRING_LENGTH": 250,
              "NUM_PAST_SAMPLES_TRACKED": 3,
              "RANDOM_STATE": 12648430,
              "RESET_INDEX_VALUES": false,
              "ROW_SAMPLING_METHOD": "random",
              "SAMPLING_FACTOR": 0.1,
              "SAMPLING_METHOD": "random",
              "STRINGIFY_COLUMN_VALUES": true,
              "STRINGIFY_INDEX_VALUES": false
            },
            "sample_history": [],
            "sampling_time": "2023-11-09T06:51:16.486197",
            "user_variable_name": "descriptive_stats_cat",
            "variable_name": "descriptive_stats_cat"
          }
        }
      },
      "execution_count": null,
      "source": "# Generate descriptive statistics for numerical columns\ndescriptive_stats_num = data.describe()\n\n# Generate descriptive statistics for categorical columns\ndescriptive_stats_cat = data.describe(include=[object])\n\n# Display numerical descriptive statistics\ndescriptive_stats_num\ndescriptive_stats_cat",
      "outputs": []
    },
    {
      "id": "8c5155e1-17a1-49b8-8cf0-2cb5e20074c9",
      "cell_type": "code",
      "metadata": {
        "noteable": {
          "cell_type": "code",
          "output_collection_id": "87bd8e52-7acb-404c-b6f2-e9396604060d"
        },
        "ExecuteTime": {
          "end_time": "2023-11-09T06:52:00.021761+00:00",
          "start_time": "2023-11-09T06:51:58.161537+00:00"
        }
      },
      "execution_count": null,
      "source": "# Visualizations for categorical data\n\n# Plotting the distribution of 'case_type_pubtrans'\nplt.figure(figsize=(10, 8))\nsns.countplot(y=data['case_type_pubtrans'], order = data['case_type_pubtrans'].value_counts().index)\nplt.title('Distribution of Case Types in Public Transportation')\nplt.xlabel('Count')\nplt.ylabel('Case Type')\nplt.show()\n\n# Plotting the distribution of 'municipality'\nplt.figure(figsize=(10, 8))\nsns.countplot(y=data['municipality'], order = data['municipality'].value_counts().index)\nplt.title('Distribution of Cases by Municipality')\nplt.xlabel('Count')\nplt.ylabel('Municipality')\nplt.show()",
      "outputs": []
    }
  ]
}